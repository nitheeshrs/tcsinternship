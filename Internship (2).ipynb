{
 "cells": [
  {
   "cell_type": "code",
   "execution_count": 1,
   "id": "f26fb639",
   "metadata": {},
   "outputs": [],
   "source": [
    "#importing libraries\n",
    "import numpy as np\n",
    "import pandas as pd\n",
    "import matplotlib.pyplot as plt\n",
    "import seaborn as sns"
   ]
  },
  {
   "cell_type": "code",
   "execution_count": 2,
   "id": "f1279214",
   "metadata": {},
   "outputs": [],
   "source": [
    "import warnings\n",
    "warnings.filterwarnings('ignore')"
   ]
  },
  {
   "cell_type": "markdown",
   "id": "8cde4a93",
   "metadata": {},
   "source": [
    "# Load the Dataset"
   ]
  },
  {
   "cell_type": "code",
   "execution_count": 3,
   "id": "4676c512",
   "metadata": {},
   "outputs": [
    {
     "data": {
      "text/html": [
       "<div>\n",
       "<style scoped>\n",
       "    .dataframe tbody tr th:only-of-type {\n",
       "        vertical-align: middle;\n",
       "    }\n",
       "\n",
       "    .dataframe tbody tr th {\n",
       "        vertical-align: top;\n",
       "    }\n",
       "\n",
       "    .dataframe thead th {\n",
       "        text-align: right;\n",
       "    }\n",
       "</style>\n",
       "<table border=\"1\" class=\"dataframe\">\n",
       "  <thead>\n",
       "    <tr style=\"text-align: right;\">\n",
       "      <th></th>\n",
       "      <th>Employee_Name</th>\n",
       "      <th>EmpID</th>\n",
       "      <th>MarriedID</th>\n",
       "      <th>MaritalStatusID</th>\n",
       "      <th>GenderID</th>\n",
       "      <th>EmpStatusID</th>\n",
       "      <th>DeptID</th>\n",
       "      <th>PerfScoreID</th>\n",
       "      <th>FromDiversityJobFairID</th>\n",
       "      <th>Salary</th>\n",
       "      <th>...</th>\n",
       "      <th>ManagerName</th>\n",
       "      <th>ManagerID</th>\n",
       "      <th>RecruitmentSource</th>\n",
       "      <th>PerformanceScore</th>\n",
       "      <th>EngagementSurvey</th>\n",
       "      <th>EmpSatisfaction</th>\n",
       "      <th>SpecialProjectsCount</th>\n",
       "      <th>LastPerformanceReview_Date</th>\n",
       "      <th>DaysLateLast30</th>\n",
       "      <th>Absences</th>\n",
       "    </tr>\n",
       "  </thead>\n",
       "  <tbody>\n",
       "    <tr>\n",
       "      <th>0</th>\n",
       "      <td>Adinolfi, Wilson  K</td>\n",
       "      <td>10026</td>\n",
       "      <td>0</td>\n",
       "      <td>0</td>\n",
       "      <td>1</td>\n",
       "      <td>1</td>\n",
       "      <td>5</td>\n",
       "      <td>4</td>\n",
       "      <td>0</td>\n",
       "      <td>62506</td>\n",
       "      <td>...</td>\n",
       "      <td>Michael Albert</td>\n",
       "      <td>22.0</td>\n",
       "      <td>LinkedIn</td>\n",
       "      <td>Exceeds</td>\n",
       "      <td>4.60</td>\n",
       "      <td>5</td>\n",
       "      <td>0</td>\n",
       "      <td>1/17/2019</td>\n",
       "      <td>0</td>\n",
       "      <td>1</td>\n",
       "    </tr>\n",
       "    <tr>\n",
       "      <th>1</th>\n",
       "      <td>Ait Sidi, Karthikeyan</td>\n",
       "      <td>10084</td>\n",
       "      <td>1</td>\n",
       "      <td>1</td>\n",
       "      <td>1</td>\n",
       "      <td>5</td>\n",
       "      <td>3</td>\n",
       "      <td>3</td>\n",
       "      <td>0</td>\n",
       "      <td>104437</td>\n",
       "      <td>...</td>\n",
       "      <td>Simon Roup</td>\n",
       "      <td>4.0</td>\n",
       "      <td>Indeed</td>\n",
       "      <td>Fully Meets</td>\n",
       "      <td>4.96</td>\n",
       "      <td>3</td>\n",
       "      <td>6</td>\n",
       "      <td>2/24/2016</td>\n",
       "      <td>0</td>\n",
       "      <td>17</td>\n",
       "    </tr>\n",
       "    <tr>\n",
       "      <th>2</th>\n",
       "      <td>Akinkuolie, Sarah</td>\n",
       "      <td>10196</td>\n",
       "      <td>1</td>\n",
       "      <td>1</td>\n",
       "      <td>0</td>\n",
       "      <td>5</td>\n",
       "      <td>5</td>\n",
       "      <td>3</td>\n",
       "      <td>0</td>\n",
       "      <td>64955</td>\n",
       "      <td>...</td>\n",
       "      <td>Kissy Sullivan</td>\n",
       "      <td>20.0</td>\n",
       "      <td>LinkedIn</td>\n",
       "      <td>Fully Meets</td>\n",
       "      <td>3.02</td>\n",
       "      <td>3</td>\n",
       "      <td>0</td>\n",
       "      <td>5/15/2012</td>\n",
       "      <td>0</td>\n",
       "      <td>3</td>\n",
       "    </tr>\n",
       "    <tr>\n",
       "      <th>3</th>\n",
       "      <td>Alagbe,Trina</td>\n",
       "      <td>10088</td>\n",
       "      <td>1</td>\n",
       "      <td>1</td>\n",
       "      <td>0</td>\n",
       "      <td>1</td>\n",
       "      <td>5</td>\n",
       "      <td>3</td>\n",
       "      <td>0</td>\n",
       "      <td>64991</td>\n",
       "      <td>...</td>\n",
       "      <td>Elijiah Gray</td>\n",
       "      <td>16.0</td>\n",
       "      <td>Indeed</td>\n",
       "      <td>Fully Meets</td>\n",
       "      <td>4.84</td>\n",
       "      <td>5</td>\n",
       "      <td>0</td>\n",
       "      <td>1/3/2019</td>\n",
       "      <td>0</td>\n",
       "      <td>15</td>\n",
       "    </tr>\n",
       "    <tr>\n",
       "      <th>4</th>\n",
       "      <td>Anderson, Carol</td>\n",
       "      <td>10069</td>\n",
       "      <td>0</td>\n",
       "      <td>2</td>\n",
       "      <td>0</td>\n",
       "      <td>5</td>\n",
       "      <td>5</td>\n",
       "      <td>3</td>\n",
       "      <td>0</td>\n",
       "      <td>50825</td>\n",
       "      <td>...</td>\n",
       "      <td>Webster Butler</td>\n",
       "      <td>39.0</td>\n",
       "      <td>Google Search</td>\n",
       "      <td>Fully Meets</td>\n",
       "      <td>5.00</td>\n",
       "      <td>4</td>\n",
       "      <td>0</td>\n",
       "      <td>2/1/2016</td>\n",
       "      <td>0</td>\n",
       "      <td>2</td>\n",
       "    </tr>\n",
       "  </tbody>\n",
       "</table>\n",
       "<p>5 rows × 36 columns</p>\n",
       "</div>"
      ],
      "text/plain": [
       "              Employee_Name  EmpID  MarriedID  MaritalStatusID  GenderID  \\\n",
       "0       Adinolfi, Wilson  K  10026          0                0         1   \n",
       "1  Ait Sidi, Karthikeyan     10084          1                1         1   \n",
       "2         Akinkuolie, Sarah  10196          1                1         0   \n",
       "3              Alagbe,Trina  10088          1                1         0   \n",
       "4          Anderson, Carol   10069          0                2         0   \n",
       "\n",
       "   EmpStatusID  DeptID  PerfScoreID  FromDiversityJobFairID  Salary  ...  \\\n",
       "0            1       5            4                       0   62506  ...   \n",
       "1            5       3            3                       0  104437  ...   \n",
       "2            5       5            3                       0   64955  ...   \n",
       "3            1       5            3                       0   64991  ...   \n",
       "4            5       5            3                       0   50825  ...   \n",
       "\n",
       "      ManagerName  ManagerID RecruitmentSource PerformanceScore  \\\n",
       "0  Michael Albert       22.0          LinkedIn          Exceeds   \n",
       "1      Simon Roup        4.0            Indeed      Fully Meets   \n",
       "2  Kissy Sullivan       20.0          LinkedIn      Fully Meets   \n",
       "3    Elijiah Gray       16.0            Indeed      Fully Meets   \n",
       "4  Webster Butler       39.0     Google Search      Fully Meets   \n",
       "\n",
       "   EngagementSurvey EmpSatisfaction SpecialProjectsCount  \\\n",
       "0              4.60               5                    0   \n",
       "1              4.96               3                    6   \n",
       "2              3.02               3                    0   \n",
       "3              4.84               5                    0   \n",
       "4              5.00               4                    0   \n",
       "\n",
       "  LastPerformanceReview_Date DaysLateLast30 Absences  \n",
       "0                  1/17/2019              0        1  \n",
       "1                  2/24/2016              0       17  \n",
       "2                  5/15/2012              0        3  \n",
       "3                   1/3/2019              0       15  \n",
       "4                   2/1/2016              0        2  \n",
       "\n",
       "[5 rows x 36 columns]"
      ]
     },
     "execution_count": 3,
     "metadata": {},
     "output_type": "execute_result"
    }
   ],
   "source": [
    "data=pd.read_csv(r'D:\\Internship\\HRDataset_v14.csv')\n",
    "data.head()"
   ]
  },
  {
   "cell_type": "code",
   "execution_count": 4,
   "id": "323f98b1",
   "metadata": {},
   "outputs": [
    {
     "data": {
      "text/html": [
       "<div>\n",
       "<style scoped>\n",
       "    .dataframe tbody tr th:only-of-type {\n",
       "        vertical-align: middle;\n",
       "    }\n",
       "\n",
       "    .dataframe tbody tr th {\n",
       "        vertical-align: top;\n",
       "    }\n",
       "\n",
       "    .dataframe thead th {\n",
       "        text-align: right;\n",
       "    }\n",
       "</style>\n",
       "<table border=\"1\" class=\"dataframe\">\n",
       "  <thead>\n",
       "    <tr style=\"text-align: right;\">\n",
       "      <th></th>\n",
       "      <th>Employee_Name</th>\n",
       "      <th>EmpID</th>\n",
       "      <th>MarriedID</th>\n",
       "      <th>MaritalStatusID</th>\n",
       "      <th>GenderID</th>\n",
       "      <th>EmpStatusID</th>\n",
       "      <th>DeptID</th>\n",
       "      <th>PerfScoreID</th>\n",
       "      <th>FromDiversityJobFairID</th>\n",
       "      <th>Salary</th>\n",
       "      <th>Termd</th>\n",
       "      <th>PositionID</th>\n",
       "      <th>Position</th>\n",
       "      <th>State</th>\n",
       "      <th>Zip</th>\n",
       "      <th>DOB</th>\n",
       "      <th>Sex</th>\n",
       "      <th>MaritalDesc</th>\n",
       "      <th>CitizenDesc</th>\n",
       "      <th>HispanicLatino</th>\n",
       "      <th>RaceDesc</th>\n",
       "      <th>DateofHire</th>\n",
       "      <th>DateofTermination</th>\n",
       "      <th>TermReason</th>\n",
       "      <th>EmploymentStatus</th>\n",
       "      <th>Department</th>\n",
       "      <th>ManagerName</th>\n",
       "      <th>ManagerID</th>\n",
       "      <th>RecruitmentSource</th>\n",
       "      <th>PerformanceScore</th>\n",
       "      <th>EngagementSurvey</th>\n",
       "      <th>EmpSatisfaction</th>\n",
       "      <th>SpecialProjectsCount</th>\n",
       "      <th>LastPerformanceReview_Date</th>\n",
       "      <th>DaysLateLast30</th>\n",
       "      <th>Absences</th>\n",
       "    </tr>\n",
       "  </thead>\n",
       "  <tbody>\n",
       "    <tr>\n",
       "      <th>0</th>\n",
       "      <td>Adinolfi, Wilson  K</td>\n",
       "      <td>10026</td>\n",
       "      <td>0</td>\n",
       "      <td>0</td>\n",
       "      <td>1</td>\n",
       "      <td>1</td>\n",
       "      <td>5</td>\n",
       "      <td>4</td>\n",
       "      <td>0</td>\n",
       "      <td>62506</td>\n",
       "      <td>0</td>\n",
       "      <td>19</td>\n",
       "      <td>Production Technician I</td>\n",
       "      <td>MA</td>\n",
       "      <td>1960</td>\n",
       "      <td>07/10/83</td>\n",
       "      <td>M</td>\n",
       "      <td>Single</td>\n",
       "      <td>US Citizen</td>\n",
       "      <td>No</td>\n",
       "      <td>White</td>\n",
       "      <td>7/5/2011</td>\n",
       "      <td>NaN</td>\n",
       "      <td>N/A-StillEmployed</td>\n",
       "      <td>Active</td>\n",
       "      <td>Production</td>\n",
       "      <td>Michael Albert</td>\n",
       "      <td>22.0</td>\n",
       "      <td>LinkedIn</td>\n",
       "      <td>Exceeds</td>\n",
       "      <td>4.60</td>\n",
       "      <td>5</td>\n",
       "      <td>0</td>\n",
       "      <td>1/17/2019</td>\n",
       "      <td>0</td>\n",
       "      <td>1</td>\n",
       "    </tr>\n",
       "    <tr>\n",
       "      <th>1</th>\n",
       "      <td>Ait Sidi, Karthikeyan</td>\n",
       "      <td>10084</td>\n",
       "      <td>1</td>\n",
       "      <td>1</td>\n",
       "      <td>1</td>\n",
       "      <td>5</td>\n",
       "      <td>3</td>\n",
       "      <td>3</td>\n",
       "      <td>0</td>\n",
       "      <td>104437</td>\n",
       "      <td>1</td>\n",
       "      <td>27</td>\n",
       "      <td>Sr. DBA</td>\n",
       "      <td>MA</td>\n",
       "      <td>2148</td>\n",
       "      <td>05/05/75</td>\n",
       "      <td>M</td>\n",
       "      <td>Married</td>\n",
       "      <td>US Citizen</td>\n",
       "      <td>No</td>\n",
       "      <td>White</td>\n",
       "      <td>3/30/2015</td>\n",
       "      <td>6/16/2016</td>\n",
       "      <td>career change</td>\n",
       "      <td>Voluntarily Terminated</td>\n",
       "      <td>IT/IS</td>\n",
       "      <td>Simon Roup</td>\n",
       "      <td>4.0</td>\n",
       "      <td>Indeed</td>\n",
       "      <td>Fully Meets</td>\n",
       "      <td>4.96</td>\n",
       "      <td>3</td>\n",
       "      <td>6</td>\n",
       "      <td>2/24/2016</td>\n",
       "      <td>0</td>\n",
       "      <td>17</td>\n",
       "    </tr>\n",
       "    <tr>\n",
       "      <th>2</th>\n",
       "      <td>Akinkuolie, Sarah</td>\n",
       "      <td>10196</td>\n",
       "      <td>1</td>\n",
       "      <td>1</td>\n",
       "      <td>0</td>\n",
       "      <td>5</td>\n",
       "      <td>5</td>\n",
       "      <td>3</td>\n",
       "      <td>0</td>\n",
       "      <td>64955</td>\n",
       "      <td>1</td>\n",
       "      <td>20</td>\n",
       "      <td>Production Technician II</td>\n",
       "      <td>MA</td>\n",
       "      <td>1810</td>\n",
       "      <td>09/19/88</td>\n",
       "      <td>F</td>\n",
       "      <td>Married</td>\n",
       "      <td>US Citizen</td>\n",
       "      <td>No</td>\n",
       "      <td>White</td>\n",
       "      <td>7/5/2011</td>\n",
       "      <td>9/24/2012</td>\n",
       "      <td>hours</td>\n",
       "      <td>Voluntarily Terminated</td>\n",
       "      <td>Production</td>\n",
       "      <td>Kissy Sullivan</td>\n",
       "      <td>20.0</td>\n",
       "      <td>LinkedIn</td>\n",
       "      <td>Fully Meets</td>\n",
       "      <td>3.02</td>\n",
       "      <td>3</td>\n",
       "      <td>0</td>\n",
       "      <td>5/15/2012</td>\n",
       "      <td>0</td>\n",
       "      <td>3</td>\n",
       "    </tr>\n",
       "    <tr>\n",
       "      <th>3</th>\n",
       "      <td>Alagbe,Trina</td>\n",
       "      <td>10088</td>\n",
       "      <td>1</td>\n",
       "      <td>1</td>\n",
       "      <td>0</td>\n",
       "      <td>1</td>\n",
       "      <td>5</td>\n",
       "      <td>3</td>\n",
       "      <td>0</td>\n",
       "      <td>64991</td>\n",
       "      <td>0</td>\n",
       "      <td>19</td>\n",
       "      <td>Production Technician I</td>\n",
       "      <td>MA</td>\n",
       "      <td>1886</td>\n",
       "      <td>09/27/88</td>\n",
       "      <td>F</td>\n",
       "      <td>Married</td>\n",
       "      <td>US Citizen</td>\n",
       "      <td>No</td>\n",
       "      <td>White</td>\n",
       "      <td>1/7/2008</td>\n",
       "      <td>NaN</td>\n",
       "      <td>N/A-StillEmployed</td>\n",
       "      <td>Active</td>\n",
       "      <td>Production</td>\n",
       "      <td>Elijiah Gray</td>\n",
       "      <td>16.0</td>\n",
       "      <td>Indeed</td>\n",
       "      <td>Fully Meets</td>\n",
       "      <td>4.84</td>\n",
       "      <td>5</td>\n",
       "      <td>0</td>\n",
       "      <td>1/3/2019</td>\n",
       "      <td>0</td>\n",
       "      <td>15</td>\n",
       "    </tr>\n",
       "    <tr>\n",
       "      <th>4</th>\n",
       "      <td>Anderson, Carol</td>\n",
       "      <td>10069</td>\n",
       "      <td>0</td>\n",
       "      <td>2</td>\n",
       "      <td>0</td>\n",
       "      <td>5</td>\n",
       "      <td>5</td>\n",
       "      <td>3</td>\n",
       "      <td>0</td>\n",
       "      <td>50825</td>\n",
       "      <td>1</td>\n",
       "      <td>19</td>\n",
       "      <td>Production Technician I</td>\n",
       "      <td>MA</td>\n",
       "      <td>2169</td>\n",
       "      <td>09/08/89</td>\n",
       "      <td>F</td>\n",
       "      <td>Divorced</td>\n",
       "      <td>US Citizen</td>\n",
       "      <td>No</td>\n",
       "      <td>White</td>\n",
       "      <td>7/11/2011</td>\n",
       "      <td>9/6/2016</td>\n",
       "      <td>return to school</td>\n",
       "      <td>Voluntarily Terminated</td>\n",
       "      <td>Production</td>\n",
       "      <td>Webster Butler</td>\n",
       "      <td>39.0</td>\n",
       "      <td>Google Search</td>\n",
       "      <td>Fully Meets</td>\n",
       "      <td>5.00</td>\n",
       "      <td>4</td>\n",
       "      <td>0</td>\n",
       "      <td>2/1/2016</td>\n",
       "      <td>0</td>\n",
       "      <td>2</td>\n",
       "    </tr>\n",
       "  </tbody>\n",
       "</table>\n",
       "</div>"
      ],
      "text/plain": [
       "              Employee_Name  EmpID  MarriedID  MaritalStatusID  GenderID  \\\n",
       "0       Adinolfi, Wilson  K  10026          0                0         1   \n",
       "1  Ait Sidi, Karthikeyan     10084          1                1         1   \n",
       "2         Akinkuolie, Sarah  10196          1                1         0   \n",
       "3              Alagbe,Trina  10088          1                1         0   \n",
       "4          Anderson, Carol   10069          0                2         0   \n",
       "\n",
       "   EmpStatusID  DeptID  PerfScoreID  FromDiversityJobFairID  Salary  Termd  \\\n",
       "0            1       5            4                       0   62506      0   \n",
       "1            5       3            3                       0  104437      1   \n",
       "2            5       5            3                       0   64955      1   \n",
       "3            1       5            3                       0   64991      0   \n",
       "4            5       5            3                       0   50825      1   \n",
       "\n",
       "   PositionID                  Position State   Zip       DOB Sex MaritalDesc  \\\n",
       "0          19   Production Technician I    MA  1960  07/10/83  M       Single   \n",
       "1          27                   Sr. DBA    MA  2148  05/05/75  M      Married   \n",
       "2          20  Production Technician II    MA  1810  09/19/88   F     Married   \n",
       "3          19   Production Technician I    MA  1886  09/27/88   F     Married   \n",
       "4          19   Production Technician I    MA  2169  09/08/89   F    Divorced   \n",
       "\n",
       "  CitizenDesc HispanicLatino RaceDesc DateofHire DateofTermination  \\\n",
       "0  US Citizen             No    White   7/5/2011               NaN   \n",
       "1  US Citizen             No    White  3/30/2015         6/16/2016   \n",
       "2  US Citizen             No    White   7/5/2011         9/24/2012   \n",
       "3  US Citizen             No    White   1/7/2008               NaN   \n",
       "4  US Citizen             No    White  7/11/2011          9/6/2016   \n",
       "\n",
       "          TermReason        EmploymentStatus         Department  \\\n",
       "0  N/A-StillEmployed                  Active  Production          \n",
       "1      career change  Voluntarily Terminated              IT/IS   \n",
       "2              hours  Voluntarily Terminated  Production          \n",
       "3  N/A-StillEmployed                  Active  Production          \n",
       "4   return to school  Voluntarily Terminated  Production          \n",
       "\n",
       "      ManagerName  ManagerID RecruitmentSource PerformanceScore  \\\n",
       "0  Michael Albert       22.0          LinkedIn          Exceeds   \n",
       "1      Simon Roup        4.0            Indeed      Fully Meets   \n",
       "2  Kissy Sullivan       20.0          LinkedIn      Fully Meets   \n",
       "3    Elijiah Gray       16.0            Indeed      Fully Meets   \n",
       "4  Webster Butler       39.0     Google Search      Fully Meets   \n",
       "\n",
       "   EngagementSurvey  EmpSatisfaction  SpecialProjectsCount  \\\n",
       "0              4.60                5                     0   \n",
       "1              4.96                3                     6   \n",
       "2              3.02                3                     0   \n",
       "3              4.84                5                     0   \n",
       "4              5.00                4                     0   \n",
       "\n",
       "  LastPerformanceReview_Date  DaysLateLast30  Absences  \n",
       "0                  1/17/2019               0         1  \n",
       "1                  2/24/2016               0        17  \n",
       "2                  5/15/2012               0         3  \n",
       "3                   1/3/2019               0        15  \n",
       "4                   2/1/2016               0         2  "
      ]
     },
     "execution_count": 4,
     "metadata": {},
     "output_type": "execute_result"
    }
   ],
   "source": [
    "pd.set_option('display.max_columns', None) \n",
    "data.head()"
   ]
  },
  {
   "cell_type": "code",
   "execution_count": 5,
   "id": "d7bd438f",
   "metadata": {},
   "outputs": [
    {
     "data": {
      "text/plain": [
       "(311, 36)"
      ]
     },
     "execution_count": 5,
     "metadata": {},
     "output_type": "execute_result"
    }
   ],
   "source": [
    "data.shape"
   ]
  },
  {
   "cell_type": "code",
   "execution_count": 6,
   "id": "84af7f9c",
   "metadata": {},
   "outputs": [
    {
     "name": "stdout",
     "output_type": "stream",
     "text": [
      "<class 'pandas.core.frame.DataFrame'>\n",
      "RangeIndex: 311 entries, 0 to 310\n",
      "Data columns (total 36 columns):\n",
      " #   Column                      Non-Null Count  Dtype  \n",
      "---  ------                      --------------  -----  \n",
      " 0   Employee_Name               311 non-null    object \n",
      " 1   EmpID                       311 non-null    int64  \n",
      " 2   MarriedID                   311 non-null    int64  \n",
      " 3   MaritalStatusID             311 non-null    int64  \n",
      " 4   GenderID                    311 non-null    int64  \n",
      " 5   EmpStatusID                 311 non-null    int64  \n",
      " 6   DeptID                      311 non-null    int64  \n",
      " 7   PerfScoreID                 311 non-null    int64  \n",
      " 8   FromDiversityJobFairID      311 non-null    int64  \n",
      " 9   Salary                      311 non-null    int64  \n",
      " 10  Termd                       311 non-null    int64  \n",
      " 11  PositionID                  311 non-null    int64  \n",
      " 12  Position                    311 non-null    object \n",
      " 13  State                       311 non-null    object \n",
      " 14  Zip                         311 non-null    int64  \n",
      " 15  DOB                         311 non-null    object \n",
      " 16  Sex                         311 non-null    object \n",
      " 17  MaritalDesc                 311 non-null    object \n",
      " 18  CitizenDesc                 311 non-null    object \n",
      " 19  HispanicLatino              311 non-null    object \n",
      " 20  RaceDesc                    311 non-null    object \n",
      " 21  DateofHire                  311 non-null    object \n",
      " 22  DateofTermination           104 non-null    object \n",
      " 23  TermReason                  311 non-null    object \n",
      " 24  EmploymentStatus            311 non-null    object \n",
      " 25  Department                  311 non-null    object \n",
      " 26  ManagerName                 311 non-null    object \n",
      " 27  ManagerID                   303 non-null    float64\n",
      " 28  RecruitmentSource           311 non-null    object \n",
      " 29  PerformanceScore            311 non-null    object \n",
      " 30  EngagementSurvey            311 non-null    float64\n",
      " 31  EmpSatisfaction             311 non-null    int64  \n",
      " 32  SpecialProjectsCount        311 non-null    int64  \n",
      " 33  LastPerformanceReview_Date  311 non-null    object \n",
      " 34  DaysLateLast30              311 non-null    int64  \n",
      " 35  Absences                    311 non-null    int64  \n",
      "dtypes: float64(2), int64(16), object(18)\n",
      "memory usage: 87.6+ KB\n"
     ]
    }
   ],
   "source": [
    "data.info()"
   ]
  },
  {
   "cell_type": "code",
   "execution_count": 7,
   "id": "97f03c78",
   "metadata": {},
   "outputs": [
    {
     "data": {
      "text/html": [
       "<div>\n",
       "<style scoped>\n",
       "    .dataframe tbody tr th:only-of-type {\n",
       "        vertical-align: middle;\n",
       "    }\n",
       "\n",
       "    .dataframe tbody tr th {\n",
       "        vertical-align: top;\n",
       "    }\n",
       "\n",
       "    .dataframe thead th {\n",
       "        text-align: right;\n",
       "    }\n",
       "</style>\n",
       "<table border=\"1\" class=\"dataframe\">\n",
       "  <thead>\n",
       "    <tr style=\"text-align: right;\">\n",
       "      <th></th>\n",
       "      <th>EmpID</th>\n",
       "      <th>MarriedID</th>\n",
       "      <th>MaritalStatusID</th>\n",
       "      <th>GenderID</th>\n",
       "      <th>EmpStatusID</th>\n",
       "      <th>DeptID</th>\n",
       "      <th>PerfScoreID</th>\n",
       "      <th>FromDiversityJobFairID</th>\n",
       "      <th>Salary</th>\n",
       "      <th>Termd</th>\n",
       "      <th>PositionID</th>\n",
       "      <th>Zip</th>\n",
       "      <th>ManagerID</th>\n",
       "      <th>EngagementSurvey</th>\n",
       "      <th>EmpSatisfaction</th>\n",
       "      <th>SpecialProjectsCount</th>\n",
       "      <th>DaysLateLast30</th>\n",
       "      <th>Absences</th>\n",
       "    </tr>\n",
       "  </thead>\n",
       "  <tbody>\n",
       "    <tr>\n",
       "      <th>count</th>\n",
       "      <td>311.000000</td>\n",
       "      <td>311.000000</td>\n",
       "      <td>311.000000</td>\n",
       "      <td>311.000000</td>\n",
       "      <td>311.000000</td>\n",
       "      <td>311.000000</td>\n",
       "      <td>311.000000</td>\n",
       "      <td>311.000000</td>\n",
       "      <td>311.000000</td>\n",
       "      <td>311.000000</td>\n",
       "      <td>311.000000</td>\n",
       "      <td>311.000000</td>\n",
       "      <td>303.000000</td>\n",
       "      <td>311.000000</td>\n",
       "      <td>311.000000</td>\n",
       "      <td>311.000000</td>\n",
       "      <td>311.000000</td>\n",
       "      <td>311.000000</td>\n",
       "    </tr>\n",
       "    <tr>\n",
       "      <th>mean</th>\n",
       "      <td>10156.000000</td>\n",
       "      <td>0.398714</td>\n",
       "      <td>0.810289</td>\n",
       "      <td>0.434084</td>\n",
       "      <td>2.392283</td>\n",
       "      <td>4.610932</td>\n",
       "      <td>2.977492</td>\n",
       "      <td>0.093248</td>\n",
       "      <td>69020.684887</td>\n",
       "      <td>0.334405</td>\n",
       "      <td>16.845659</td>\n",
       "      <td>6555.482315</td>\n",
       "      <td>14.570957</td>\n",
       "      <td>4.110000</td>\n",
       "      <td>3.890675</td>\n",
       "      <td>1.218650</td>\n",
       "      <td>0.414791</td>\n",
       "      <td>10.237942</td>\n",
       "    </tr>\n",
       "    <tr>\n",
       "      <th>std</th>\n",
       "      <td>89.922189</td>\n",
       "      <td>0.490423</td>\n",
       "      <td>0.943239</td>\n",
       "      <td>0.496435</td>\n",
       "      <td>1.794383</td>\n",
       "      <td>1.083487</td>\n",
       "      <td>0.587072</td>\n",
       "      <td>0.291248</td>\n",
       "      <td>25156.636930</td>\n",
       "      <td>0.472542</td>\n",
       "      <td>6.223419</td>\n",
       "      <td>16908.396884</td>\n",
       "      <td>8.078306</td>\n",
       "      <td>0.789938</td>\n",
       "      <td>0.909241</td>\n",
       "      <td>2.349421</td>\n",
       "      <td>1.294519</td>\n",
       "      <td>5.852596</td>\n",
       "    </tr>\n",
       "    <tr>\n",
       "      <th>min</th>\n",
       "      <td>10001.000000</td>\n",
       "      <td>0.000000</td>\n",
       "      <td>0.000000</td>\n",
       "      <td>0.000000</td>\n",
       "      <td>1.000000</td>\n",
       "      <td>1.000000</td>\n",
       "      <td>1.000000</td>\n",
       "      <td>0.000000</td>\n",
       "      <td>45046.000000</td>\n",
       "      <td>0.000000</td>\n",
       "      <td>1.000000</td>\n",
       "      <td>1013.000000</td>\n",
       "      <td>1.000000</td>\n",
       "      <td>1.120000</td>\n",
       "      <td>1.000000</td>\n",
       "      <td>0.000000</td>\n",
       "      <td>0.000000</td>\n",
       "      <td>1.000000</td>\n",
       "    </tr>\n",
       "    <tr>\n",
       "      <th>25%</th>\n",
       "      <td>10078.500000</td>\n",
       "      <td>0.000000</td>\n",
       "      <td>0.000000</td>\n",
       "      <td>0.000000</td>\n",
       "      <td>1.000000</td>\n",
       "      <td>5.000000</td>\n",
       "      <td>3.000000</td>\n",
       "      <td>0.000000</td>\n",
       "      <td>55501.500000</td>\n",
       "      <td>0.000000</td>\n",
       "      <td>18.000000</td>\n",
       "      <td>1901.500000</td>\n",
       "      <td>10.000000</td>\n",
       "      <td>3.690000</td>\n",
       "      <td>3.000000</td>\n",
       "      <td>0.000000</td>\n",
       "      <td>0.000000</td>\n",
       "      <td>5.000000</td>\n",
       "    </tr>\n",
       "    <tr>\n",
       "      <th>50%</th>\n",
       "      <td>10156.000000</td>\n",
       "      <td>0.000000</td>\n",
       "      <td>1.000000</td>\n",
       "      <td>0.000000</td>\n",
       "      <td>1.000000</td>\n",
       "      <td>5.000000</td>\n",
       "      <td>3.000000</td>\n",
       "      <td>0.000000</td>\n",
       "      <td>62810.000000</td>\n",
       "      <td>0.000000</td>\n",
       "      <td>19.000000</td>\n",
       "      <td>2132.000000</td>\n",
       "      <td>15.000000</td>\n",
       "      <td>4.280000</td>\n",
       "      <td>4.000000</td>\n",
       "      <td>0.000000</td>\n",
       "      <td>0.000000</td>\n",
       "      <td>10.000000</td>\n",
       "    </tr>\n",
       "    <tr>\n",
       "      <th>75%</th>\n",
       "      <td>10233.500000</td>\n",
       "      <td>1.000000</td>\n",
       "      <td>1.000000</td>\n",
       "      <td>1.000000</td>\n",
       "      <td>5.000000</td>\n",
       "      <td>5.000000</td>\n",
       "      <td>3.000000</td>\n",
       "      <td>0.000000</td>\n",
       "      <td>72036.000000</td>\n",
       "      <td>1.000000</td>\n",
       "      <td>20.000000</td>\n",
       "      <td>2355.000000</td>\n",
       "      <td>19.000000</td>\n",
       "      <td>4.700000</td>\n",
       "      <td>5.000000</td>\n",
       "      <td>0.000000</td>\n",
       "      <td>0.000000</td>\n",
       "      <td>15.000000</td>\n",
       "    </tr>\n",
       "    <tr>\n",
       "      <th>max</th>\n",
       "      <td>10311.000000</td>\n",
       "      <td>1.000000</td>\n",
       "      <td>4.000000</td>\n",
       "      <td>1.000000</td>\n",
       "      <td>5.000000</td>\n",
       "      <td>6.000000</td>\n",
       "      <td>4.000000</td>\n",
       "      <td>1.000000</td>\n",
       "      <td>250000.000000</td>\n",
       "      <td>1.000000</td>\n",
       "      <td>30.000000</td>\n",
       "      <td>98052.000000</td>\n",
       "      <td>39.000000</td>\n",
       "      <td>5.000000</td>\n",
       "      <td>5.000000</td>\n",
       "      <td>8.000000</td>\n",
       "      <td>6.000000</td>\n",
       "      <td>20.000000</td>\n",
       "    </tr>\n",
       "  </tbody>\n",
       "</table>\n",
       "</div>"
      ],
      "text/plain": [
       "              EmpID   MarriedID  MaritalStatusID    GenderID  EmpStatusID  \\\n",
       "count    311.000000  311.000000       311.000000  311.000000   311.000000   \n",
       "mean   10156.000000    0.398714         0.810289    0.434084     2.392283   \n",
       "std       89.922189    0.490423         0.943239    0.496435     1.794383   \n",
       "min    10001.000000    0.000000         0.000000    0.000000     1.000000   \n",
       "25%    10078.500000    0.000000         0.000000    0.000000     1.000000   \n",
       "50%    10156.000000    0.000000         1.000000    0.000000     1.000000   \n",
       "75%    10233.500000    1.000000         1.000000    1.000000     5.000000   \n",
       "max    10311.000000    1.000000         4.000000    1.000000     5.000000   \n",
       "\n",
       "           DeptID  PerfScoreID  FromDiversityJobFairID         Salary  \\\n",
       "count  311.000000   311.000000              311.000000     311.000000   \n",
       "mean     4.610932     2.977492                0.093248   69020.684887   \n",
       "std      1.083487     0.587072                0.291248   25156.636930   \n",
       "min      1.000000     1.000000                0.000000   45046.000000   \n",
       "25%      5.000000     3.000000                0.000000   55501.500000   \n",
       "50%      5.000000     3.000000                0.000000   62810.000000   \n",
       "75%      5.000000     3.000000                0.000000   72036.000000   \n",
       "max      6.000000     4.000000                1.000000  250000.000000   \n",
       "\n",
       "            Termd  PositionID           Zip   ManagerID  EngagementSurvey  \\\n",
       "count  311.000000  311.000000    311.000000  303.000000        311.000000   \n",
       "mean     0.334405   16.845659   6555.482315   14.570957          4.110000   \n",
       "std      0.472542    6.223419  16908.396884    8.078306          0.789938   \n",
       "min      0.000000    1.000000   1013.000000    1.000000          1.120000   \n",
       "25%      0.000000   18.000000   1901.500000   10.000000          3.690000   \n",
       "50%      0.000000   19.000000   2132.000000   15.000000          4.280000   \n",
       "75%      1.000000   20.000000   2355.000000   19.000000          4.700000   \n",
       "max      1.000000   30.000000  98052.000000   39.000000          5.000000   \n",
       "\n",
       "       EmpSatisfaction  SpecialProjectsCount  DaysLateLast30    Absences  \n",
       "count       311.000000            311.000000      311.000000  311.000000  \n",
       "mean          3.890675              1.218650        0.414791   10.237942  \n",
       "std           0.909241              2.349421        1.294519    5.852596  \n",
       "min           1.000000              0.000000        0.000000    1.000000  \n",
       "25%           3.000000              0.000000        0.000000    5.000000  \n",
       "50%           4.000000              0.000000        0.000000   10.000000  \n",
       "75%           5.000000              0.000000        0.000000   15.000000  \n",
       "max           5.000000              8.000000        6.000000   20.000000  "
      ]
     },
     "execution_count": 7,
     "metadata": {},
     "output_type": "execute_result"
    }
   ],
   "source": [
    "data.describe()"
   ]
  },
  {
   "cell_type": "code",
   "execution_count": 8,
   "id": "f5283e27",
   "metadata": {},
   "outputs": [
    {
     "data": {
      "text/plain": [
       "Employee_Name                   0\n",
       "EmpID                           0\n",
       "MarriedID                       0\n",
       "MaritalStatusID                 0\n",
       "GenderID                        0\n",
       "EmpStatusID                     0\n",
       "DeptID                          0\n",
       "PerfScoreID                     0\n",
       "FromDiversityJobFairID          0\n",
       "Salary                          0\n",
       "Termd                           0\n",
       "PositionID                      0\n",
       "Position                        0\n",
       "State                           0\n",
       "Zip                             0\n",
       "DOB                             0\n",
       "Sex                             0\n",
       "MaritalDesc                     0\n",
       "CitizenDesc                     0\n",
       "HispanicLatino                  0\n",
       "RaceDesc                        0\n",
       "DateofHire                      0\n",
       "DateofTermination             207\n",
       "TermReason                      0\n",
       "EmploymentStatus                0\n",
       "Department                      0\n",
       "ManagerName                     0\n",
       "ManagerID                       8\n",
       "RecruitmentSource               0\n",
       "PerformanceScore                0\n",
       "EngagementSurvey                0\n",
       "EmpSatisfaction                 0\n",
       "SpecialProjectsCount            0\n",
       "LastPerformanceReview_Date      0\n",
       "DaysLateLast30                  0\n",
       "Absences                        0\n",
       "dtype: int64"
      ]
     },
     "execution_count": 8,
     "metadata": {},
     "output_type": "execute_result"
    }
   ],
   "source": [
    "data.isna().sum()"
   ]
  },
  {
   "cell_type": "code",
   "execution_count": 9,
   "id": "6efbe44c",
   "metadata": {},
   "outputs": [
    {
     "data": {
      "text/plain": [
       "Employee_Name                  0.000000\n",
       "EmpID                          0.000000\n",
       "MarriedID                      0.000000\n",
       "MaritalStatusID                0.000000\n",
       "GenderID                       0.000000\n",
       "EmpStatusID                    0.000000\n",
       "DeptID                         0.000000\n",
       "PerfScoreID                    0.000000\n",
       "FromDiversityJobFairID         0.000000\n",
       "Salary                         0.000000\n",
       "Termd                          0.000000\n",
       "PositionID                     0.000000\n",
       "Position                       0.000000\n",
       "State                          0.000000\n",
       "Zip                            0.000000\n",
       "DOB                            0.000000\n",
       "Sex                            0.000000\n",
       "MaritalDesc                    0.000000\n",
       "CitizenDesc                    0.000000\n",
       "HispanicLatino                 0.000000\n",
       "RaceDesc                       0.000000\n",
       "DateofHire                     0.000000\n",
       "DateofTermination             66.559486\n",
       "TermReason                     0.000000\n",
       "EmploymentStatus               0.000000\n",
       "Department                     0.000000\n",
       "ManagerName                    0.000000\n",
       "ManagerID                      2.572347\n",
       "RecruitmentSource              0.000000\n",
       "PerformanceScore               0.000000\n",
       "EngagementSurvey               0.000000\n",
       "EmpSatisfaction                0.000000\n",
       "SpecialProjectsCount           0.000000\n",
       "LastPerformanceReview_Date     0.000000\n",
       "DaysLateLast30                 0.000000\n",
       "Absences                       0.000000\n",
       "dtype: float64"
      ]
     },
     "execution_count": 9,
     "metadata": {},
     "output_type": "execute_result"
    }
   ],
   "source": [
    "data.isna().sum() * 100 / len(data)"
   ]
  },
  {
   "cell_type": "code",
   "execution_count": 10,
   "id": "7a6b6bad",
   "metadata": {},
   "outputs": [],
   "source": [
    "df=data.copy()"
   ]
  },
  {
   "cell_type": "code",
   "execution_count": 11,
   "id": "3be6a1e4",
   "metadata": {},
   "outputs": [
    {
     "data": {
      "text/html": [
       "<div>\n",
       "<style scoped>\n",
       "    .dataframe tbody tr th:only-of-type {\n",
       "        vertical-align: middle;\n",
       "    }\n",
       "\n",
       "    .dataframe tbody tr th {\n",
       "        vertical-align: top;\n",
       "    }\n",
       "\n",
       "    .dataframe thead th {\n",
       "        text-align: right;\n",
       "    }\n",
       "</style>\n",
       "<table border=\"1\" class=\"dataframe\">\n",
       "  <thead>\n",
       "    <tr style=\"text-align: right;\">\n",
       "      <th></th>\n",
       "      <th>Employee_Name</th>\n",
       "      <th>EmpID</th>\n",
       "      <th>MarriedID</th>\n",
       "      <th>MaritalStatusID</th>\n",
       "      <th>GenderID</th>\n",
       "      <th>EmpStatusID</th>\n",
       "      <th>DeptID</th>\n",
       "      <th>PerfScoreID</th>\n",
       "      <th>FromDiversityJobFairID</th>\n",
       "      <th>Salary</th>\n",
       "      <th>Termd</th>\n",
       "      <th>PositionID</th>\n",
       "      <th>Position</th>\n",
       "      <th>State</th>\n",
       "      <th>Zip</th>\n",
       "      <th>DOB</th>\n",
       "      <th>Sex</th>\n",
       "      <th>MaritalDesc</th>\n",
       "      <th>CitizenDesc</th>\n",
       "      <th>HispanicLatino</th>\n",
       "      <th>RaceDesc</th>\n",
       "      <th>DateofHire</th>\n",
       "      <th>TermReason</th>\n",
       "      <th>EmploymentStatus</th>\n",
       "      <th>Department</th>\n",
       "      <th>ManagerName</th>\n",
       "      <th>ManagerID</th>\n",
       "      <th>RecruitmentSource</th>\n",
       "      <th>PerformanceScore</th>\n",
       "      <th>EngagementSurvey</th>\n",
       "      <th>EmpSatisfaction</th>\n",
       "      <th>SpecialProjectsCount</th>\n",
       "      <th>LastPerformanceReview_Date</th>\n",
       "      <th>DaysLateLast30</th>\n",
       "      <th>Absences</th>\n",
       "    </tr>\n",
       "  </thead>\n",
       "  <tbody>\n",
       "    <tr>\n",
       "      <th>0</th>\n",
       "      <td>Adinolfi, Wilson  K</td>\n",
       "      <td>10026</td>\n",
       "      <td>0</td>\n",
       "      <td>0</td>\n",
       "      <td>1</td>\n",
       "      <td>1</td>\n",
       "      <td>5</td>\n",
       "      <td>4</td>\n",
       "      <td>0</td>\n",
       "      <td>62506</td>\n",
       "      <td>0</td>\n",
       "      <td>19</td>\n",
       "      <td>Production Technician I</td>\n",
       "      <td>MA</td>\n",
       "      <td>1960</td>\n",
       "      <td>07/10/83</td>\n",
       "      <td>M</td>\n",
       "      <td>Single</td>\n",
       "      <td>US Citizen</td>\n",
       "      <td>No</td>\n",
       "      <td>White</td>\n",
       "      <td>7/5/2011</td>\n",
       "      <td>N/A-StillEmployed</td>\n",
       "      <td>Active</td>\n",
       "      <td>Production</td>\n",
       "      <td>Michael Albert</td>\n",
       "      <td>22.0</td>\n",
       "      <td>LinkedIn</td>\n",
       "      <td>Exceeds</td>\n",
       "      <td>4.60</td>\n",
       "      <td>5</td>\n",
       "      <td>0</td>\n",
       "      <td>1/17/2019</td>\n",
       "      <td>0</td>\n",
       "      <td>1</td>\n",
       "    </tr>\n",
       "    <tr>\n",
       "      <th>1</th>\n",
       "      <td>Ait Sidi, Karthikeyan</td>\n",
       "      <td>10084</td>\n",
       "      <td>1</td>\n",
       "      <td>1</td>\n",
       "      <td>1</td>\n",
       "      <td>5</td>\n",
       "      <td>3</td>\n",
       "      <td>3</td>\n",
       "      <td>0</td>\n",
       "      <td>104437</td>\n",
       "      <td>1</td>\n",
       "      <td>27</td>\n",
       "      <td>Sr. DBA</td>\n",
       "      <td>MA</td>\n",
       "      <td>2148</td>\n",
       "      <td>05/05/75</td>\n",
       "      <td>M</td>\n",
       "      <td>Married</td>\n",
       "      <td>US Citizen</td>\n",
       "      <td>No</td>\n",
       "      <td>White</td>\n",
       "      <td>3/30/2015</td>\n",
       "      <td>career change</td>\n",
       "      <td>Voluntarily Terminated</td>\n",
       "      <td>IT/IS</td>\n",
       "      <td>Simon Roup</td>\n",
       "      <td>4.0</td>\n",
       "      <td>Indeed</td>\n",
       "      <td>Fully Meets</td>\n",
       "      <td>4.96</td>\n",
       "      <td>3</td>\n",
       "      <td>6</td>\n",
       "      <td>2/24/2016</td>\n",
       "      <td>0</td>\n",
       "      <td>17</td>\n",
       "    </tr>\n",
       "    <tr>\n",
       "      <th>2</th>\n",
       "      <td>Akinkuolie, Sarah</td>\n",
       "      <td>10196</td>\n",
       "      <td>1</td>\n",
       "      <td>1</td>\n",
       "      <td>0</td>\n",
       "      <td>5</td>\n",
       "      <td>5</td>\n",
       "      <td>3</td>\n",
       "      <td>0</td>\n",
       "      <td>64955</td>\n",
       "      <td>1</td>\n",
       "      <td>20</td>\n",
       "      <td>Production Technician II</td>\n",
       "      <td>MA</td>\n",
       "      <td>1810</td>\n",
       "      <td>09/19/88</td>\n",
       "      <td>F</td>\n",
       "      <td>Married</td>\n",
       "      <td>US Citizen</td>\n",
       "      <td>No</td>\n",
       "      <td>White</td>\n",
       "      <td>7/5/2011</td>\n",
       "      <td>hours</td>\n",
       "      <td>Voluntarily Terminated</td>\n",
       "      <td>Production</td>\n",
       "      <td>Kissy Sullivan</td>\n",
       "      <td>20.0</td>\n",
       "      <td>LinkedIn</td>\n",
       "      <td>Fully Meets</td>\n",
       "      <td>3.02</td>\n",
       "      <td>3</td>\n",
       "      <td>0</td>\n",
       "      <td>5/15/2012</td>\n",
       "      <td>0</td>\n",
       "      <td>3</td>\n",
       "    </tr>\n",
       "    <tr>\n",
       "      <th>3</th>\n",
       "      <td>Alagbe,Trina</td>\n",
       "      <td>10088</td>\n",
       "      <td>1</td>\n",
       "      <td>1</td>\n",
       "      <td>0</td>\n",
       "      <td>1</td>\n",
       "      <td>5</td>\n",
       "      <td>3</td>\n",
       "      <td>0</td>\n",
       "      <td>64991</td>\n",
       "      <td>0</td>\n",
       "      <td>19</td>\n",
       "      <td>Production Technician I</td>\n",
       "      <td>MA</td>\n",
       "      <td>1886</td>\n",
       "      <td>09/27/88</td>\n",
       "      <td>F</td>\n",
       "      <td>Married</td>\n",
       "      <td>US Citizen</td>\n",
       "      <td>No</td>\n",
       "      <td>White</td>\n",
       "      <td>1/7/2008</td>\n",
       "      <td>N/A-StillEmployed</td>\n",
       "      <td>Active</td>\n",
       "      <td>Production</td>\n",
       "      <td>Elijiah Gray</td>\n",
       "      <td>16.0</td>\n",
       "      <td>Indeed</td>\n",
       "      <td>Fully Meets</td>\n",
       "      <td>4.84</td>\n",
       "      <td>5</td>\n",
       "      <td>0</td>\n",
       "      <td>1/3/2019</td>\n",
       "      <td>0</td>\n",
       "      <td>15</td>\n",
       "    </tr>\n",
       "    <tr>\n",
       "      <th>4</th>\n",
       "      <td>Anderson, Carol</td>\n",
       "      <td>10069</td>\n",
       "      <td>0</td>\n",
       "      <td>2</td>\n",
       "      <td>0</td>\n",
       "      <td>5</td>\n",
       "      <td>5</td>\n",
       "      <td>3</td>\n",
       "      <td>0</td>\n",
       "      <td>50825</td>\n",
       "      <td>1</td>\n",
       "      <td>19</td>\n",
       "      <td>Production Technician I</td>\n",
       "      <td>MA</td>\n",
       "      <td>2169</td>\n",
       "      <td>09/08/89</td>\n",
       "      <td>F</td>\n",
       "      <td>Divorced</td>\n",
       "      <td>US Citizen</td>\n",
       "      <td>No</td>\n",
       "      <td>White</td>\n",
       "      <td>7/11/2011</td>\n",
       "      <td>return to school</td>\n",
       "      <td>Voluntarily Terminated</td>\n",
       "      <td>Production</td>\n",
       "      <td>Webster Butler</td>\n",
       "      <td>39.0</td>\n",
       "      <td>Google Search</td>\n",
       "      <td>Fully Meets</td>\n",
       "      <td>5.00</td>\n",
       "      <td>4</td>\n",
       "      <td>0</td>\n",
       "      <td>2/1/2016</td>\n",
       "      <td>0</td>\n",
       "      <td>2</td>\n",
       "    </tr>\n",
       "  </tbody>\n",
       "</table>\n",
       "</div>"
      ],
      "text/plain": [
       "              Employee_Name  EmpID  MarriedID  MaritalStatusID  GenderID  \\\n",
       "0       Adinolfi, Wilson  K  10026          0                0         1   \n",
       "1  Ait Sidi, Karthikeyan     10084          1                1         1   \n",
       "2         Akinkuolie, Sarah  10196          1                1         0   \n",
       "3              Alagbe,Trina  10088          1                1         0   \n",
       "4          Anderson, Carol   10069          0                2         0   \n",
       "\n",
       "   EmpStatusID  DeptID  PerfScoreID  FromDiversityJobFairID  Salary  Termd  \\\n",
       "0            1       5            4                       0   62506      0   \n",
       "1            5       3            3                       0  104437      1   \n",
       "2            5       5            3                       0   64955      1   \n",
       "3            1       5            3                       0   64991      0   \n",
       "4            5       5            3                       0   50825      1   \n",
       "\n",
       "   PositionID                  Position State   Zip       DOB Sex MaritalDesc  \\\n",
       "0          19   Production Technician I    MA  1960  07/10/83  M       Single   \n",
       "1          27                   Sr. DBA    MA  2148  05/05/75  M      Married   \n",
       "2          20  Production Technician II    MA  1810  09/19/88   F     Married   \n",
       "3          19   Production Technician I    MA  1886  09/27/88   F     Married   \n",
       "4          19   Production Technician I    MA  2169  09/08/89   F    Divorced   \n",
       "\n",
       "  CitizenDesc HispanicLatino RaceDesc DateofHire         TermReason  \\\n",
       "0  US Citizen             No    White   7/5/2011  N/A-StillEmployed   \n",
       "1  US Citizen             No    White  3/30/2015      career change   \n",
       "2  US Citizen             No    White   7/5/2011              hours   \n",
       "3  US Citizen             No    White   1/7/2008  N/A-StillEmployed   \n",
       "4  US Citizen             No    White  7/11/2011   return to school   \n",
       "\n",
       "         EmploymentStatus         Department     ManagerName  ManagerID  \\\n",
       "0                  Active  Production         Michael Albert       22.0   \n",
       "1  Voluntarily Terminated              IT/IS      Simon Roup        4.0   \n",
       "2  Voluntarily Terminated  Production         Kissy Sullivan       20.0   \n",
       "3                  Active  Production           Elijiah Gray       16.0   \n",
       "4  Voluntarily Terminated  Production         Webster Butler       39.0   \n",
       "\n",
       "  RecruitmentSource PerformanceScore  EngagementSurvey  EmpSatisfaction  \\\n",
       "0          LinkedIn          Exceeds              4.60                5   \n",
       "1            Indeed      Fully Meets              4.96                3   \n",
       "2          LinkedIn      Fully Meets              3.02                3   \n",
       "3            Indeed      Fully Meets              4.84                5   \n",
       "4     Google Search      Fully Meets              5.00                4   \n",
       "\n",
       "   SpecialProjectsCount LastPerformanceReview_Date  DaysLateLast30  Absences  \n",
       "0                     0                  1/17/2019               0         1  \n",
       "1                     6                  2/24/2016               0        17  \n",
       "2                     0                  5/15/2012               0         3  \n",
       "3                     0                   1/3/2019               0        15  \n",
       "4                     0                   2/1/2016               0         2  "
      ]
     },
     "execution_count": 11,
     "metadata": {},
     "output_type": "execute_result"
    }
   ],
   "source": [
    "df=df.drop('DateofTermination',axis=1)\n",
    "df.head()"
   ]
  },
  {
   "cell_type": "code",
   "execution_count": 12,
   "id": "18d196fc",
   "metadata": {},
   "outputs": [
    {
     "data": {
      "text/plain": [
       "Index(['Employee_Name', 'EmpID', 'MarriedID', 'MaritalStatusID', 'GenderID',\n",
       "       'EmpStatusID', 'DeptID', 'PerfScoreID', 'FromDiversityJobFairID',\n",
       "       'Salary', 'Termd', 'PositionID', 'Position', 'State', 'Zip', 'DOB',\n",
       "       'Sex', 'MaritalDesc', 'CitizenDesc', 'HispanicLatino', 'RaceDesc',\n",
       "       'DateofHire', 'TermReason', 'EmploymentStatus', 'Department',\n",
       "       'ManagerName', 'ManagerID', 'RecruitmentSource', 'PerformanceScore',\n",
       "       'EngagementSurvey', 'EmpSatisfaction', 'SpecialProjectsCount',\n",
       "       'LastPerformanceReview_Date', 'DaysLateLast30', 'Absences'],\n",
       "      dtype='object')"
      ]
     },
     "execution_count": 12,
     "metadata": {},
     "output_type": "execute_result"
    }
   ],
   "source": [
    "df.columns"
   ]
  },
  {
   "cell_type": "code",
   "execution_count": 13,
   "id": "8e107880",
   "metadata": {},
   "outputs": [
    {
     "data": {
      "text/html": [
       "<div>\n",
       "<style scoped>\n",
       "    .dataframe tbody tr th:only-of-type {\n",
       "        vertical-align: middle;\n",
       "    }\n",
       "\n",
       "    .dataframe tbody tr th {\n",
       "        vertical-align: top;\n",
       "    }\n",
       "\n",
       "    .dataframe thead th {\n",
       "        text-align: right;\n",
       "    }\n",
       "</style>\n",
       "<table border=\"1\" class=\"dataframe\">\n",
       "  <thead>\n",
       "    <tr style=\"text-align: right;\">\n",
       "      <th></th>\n",
       "      <th>EmpID</th>\n",
       "      <th>MarriedID</th>\n",
       "      <th>GenderID</th>\n",
       "      <th>EmpStatusID</th>\n",
       "      <th>DeptID</th>\n",
       "      <th>PerfScoreID</th>\n",
       "      <th>FromDiversityJobFairID</th>\n",
       "      <th>Salary</th>\n",
       "      <th>Termd</th>\n",
       "      <th>PositionID</th>\n",
       "      <th>Zip</th>\n",
       "      <th>DOB</th>\n",
       "      <th>Sex</th>\n",
       "      <th>DateofHire</th>\n",
       "      <th>EmploymentStatus</th>\n",
       "      <th>Department</th>\n",
       "      <th>RecruitmentSource</th>\n",
       "      <th>PerformanceScore</th>\n",
       "      <th>EngagementSurvey</th>\n",
       "      <th>EmpSatisfaction</th>\n",
       "      <th>SpecialProjectsCount</th>\n",
       "      <th>LastPerformanceReview_Date</th>\n",
       "      <th>DaysLateLast30</th>\n",
       "      <th>Absences</th>\n",
       "    </tr>\n",
       "  </thead>\n",
       "  <tbody>\n",
       "    <tr>\n",
       "      <th>0</th>\n",
       "      <td>10026</td>\n",
       "      <td>0</td>\n",
       "      <td>1</td>\n",
       "      <td>1</td>\n",
       "      <td>5</td>\n",
       "      <td>4</td>\n",
       "      <td>0</td>\n",
       "      <td>62506</td>\n",
       "      <td>0</td>\n",
       "      <td>19</td>\n",
       "      <td>1960</td>\n",
       "      <td>07/10/83</td>\n",
       "      <td>M</td>\n",
       "      <td>7/5/2011</td>\n",
       "      <td>Active</td>\n",
       "      <td>Production</td>\n",
       "      <td>LinkedIn</td>\n",
       "      <td>Exceeds</td>\n",
       "      <td>4.60</td>\n",
       "      <td>5</td>\n",
       "      <td>0</td>\n",
       "      <td>1/17/2019</td>\n",
       "      <td>0</td>\n",
       "      <td>1</td>\n",
       "    </tr>\n",
       "    <tr>\n",
       "      <th>1</th>\n",
       "      <td>10084</td>\n",
       "      <td>1</td>\n",
       "      <td>1</td>\n",
       "      <td>5</td>\n",
       "      <td>3</td>\n",
       "      <td>3</td>\n",
       "      <td>0</td>\n",
       "      <td>104437</td>\n",
       "      <td>1</td>\n",
       "      <td>27</td>\n",
       "      <td>2148</td>\n",
       "      <td>05/05/75</td>\n",
       "      <td>M</td>\n",
       "      <td>3/30/2015</td>\n",
       "      <td>Voluntarily Terminated</td>\n",
       "      <td>IT/IS</td>\n",
       "      <td>Indeed</td>\n",
       "      <td>Fully Meets</td>\n",
       "      <td>4.96</td>\n",
       "      <td>3</td>\n",
       "      <td>6</td>\n",
       "      <td>2/24/2016</td>\n",
       "      <td>0</td>\n",
       "      <td>17</td>\n",
       "    </tr>\n",
       "    <tr>\n",
       "      <th>2</th>\n",
       "      <td>10196</td>\n",
       "      <td>1</td>\n",
       "      <td>0</td>\n",
       "      <td>5</td>\n",
       "      <td>5</td>\n",
       "      <td>3</td>\n",
       "      <td>0</td>\n",
       "      <td>64955</td>\n",
       "      <td>1</td>\n",
       "      <td>20</td>\n",
       "      <td>1810</td>\n",
       "      <td>09/19/88</td>\n",
       "      <td>F</td>\n",
       "      <td>7/5/2011</td>\n",
       "      <td>Voluntarily Terminated</td>\n",
       "      <td>Production</td>\n",
       "      <td>LinkedIn</td>\n",
       "      <td>Fully Meets</td>\n",
       "      <td>3.02</td>\n",
       "      <td>3</td>\n",
       "      <td>0</td>\n",
       "      <td>5/15/2012</td>\n",
       "      <td>0</td>\n",
       "      <td>3</td>\n",
       "    </tr>\n",
       "    <tr>\n",
       "      <th>3</th>\n",
       "      <td>10088</td>\n",
       "      <td>1</td>\n",
       "      <td>0</td>\n",
       "      <td>1</td>\n",
       "      <td>5</td>\n",
       "      <td>3</td>\n",
       "      <td>0</td>\n",
       "      <td>64991</td>\n",
       "      <td>0</td>\n",
       "      <td>19</td>\n",
       "      <td>1886</td>\n",
       "      <td>09/27/88</td>\n",
       "      <td>F</td>\n",
       "      <td>1/7/2008</td>\n",
       "      <td>Active</td>\n",
       "      <td>Production</td>\n",
       "      <td>Indeed</td>\n",
       "      <td>Fully Meets</td>\n",
       "      <td>4.84</td>\n",
       "      <td>5</td>\n",
       "      <td>0</td>\n",
       "      <td>1/3/2019</td>\n",
       "      <td>0</td>\n",
       "      <td>15</td>\n",
       "    </tr>\n",
       "    <tr>\n",
       "      <th>4</th>\n",
       "      <td>10069</td>\n",
       "      <td>0</td>\n",
       "      <td>0</td>\n",
       "      <td>5</td>\n",
       "      <td>5</td>\n",
       "      <td>3</td>\n",
       "      <td>0</td>\n",
       "      <td>50825</td>\n",
       "      <td>1</td>\n",
       "      <td>19</td>\n",
       "      <td>2169</td>\n",
       "      <td>09/08/89</td>\n",
       "      <td>F</td>\n",
       "      <td>7/11/2011</td>\n",
       "      <td>Voluntarily Terminated</td>\n",
       "      <td>Production</td>\n",
       "      <td>Google Search</td>\n",
       "      <td>Fully Meets</td>\n",
       "      <td>5.00</td>\n",
       "      <td>4</td>\n",
       "      <td>0</td>\n",
       "      <td>2/1/2016</td>\n",
       "      <td>0</td>\n",
       "      <td>2</td>\n",
       "    </tr>\n",
       "  </tbody>\n",
       "</table>\n",
       "</div>"
      ],
      "text/plain": [
       "   EmpID  MarriedID  GenderID  EmpStatusID  DeptID  PerfScoreID  \\\n",
       "0  10026          0         1            1       5            4   \n",
       "1  10084          1         1            5       3            3   \n",
       "2  10196          1         0            5       5            3   \n",
       "3  10088          1         0            1       5            3   \n",
       "4  10069          0         0            5       5            3   \n",
       "\n",
       "   FromDiversityJobFairID  Salary  Termd  PositionID   Zip       DOB Sex  \\\n",
       "0                       0   62506      0          19  1960  07/10/83  M    \n",
       "1                       0  104437      1          27  2148  05/05/75  M    \n",
       "2                       0   64955      1          20  1810  09/19/88   F   \n",
       "3                       0   64991      0          19  1886  09/27/88   F   \n",
       "4                       0   50825      1          19  2169  09/08/89   F   \n",
       "\n",
       "  DateofHire        EmploymentStatus         Department RecruitmentSource  \\\n",
       "0   7/5/2011                  Active  Production                 LinkedIn   \n",
       "1  3/30/2015  Voluntarily Terminated              IT/IS            Indeed   \n",
       "2   7/5/2011  Voluntarily Terminated  Production                 LinkedIn   \n",
       "3   1/7/2008                  Active  Production                   Indeed   \n",
       "4  7/11/2011  Voluntarily Terminated  Production            Google Search   \n",
       "\n",
       "  PerformanceScore  EngagementSurvey  EmpSatisfaction  SpecialProjectsCount  \\\n",
       "0          Exceeds              4.60                5                     0   \n",
       "1      Fully Meets              4.96                3                     6   \n",
       "2      Fully Meets              3.02                3                     0   \n",
       "3      Fully Meets              4.84                5                     0   \n",
       "4      Fully Meets              5.00                4                     0   \n",
       "\n",
       "  LastPerformanceReview_Date  DaysLateLast30  Absences  \n",
       "0                  1/17/2019               0         1  \n",
       "1                  2/24/2016               0        17  \n",
       "2                  5/15/2012               0         3  \n",
       "3                   1/3/2019               0        15  \n",
       "4                   2/1/2016               0         2  "
      ]
     },
     "execution_count": 13,
     "metadata": {},
     "output_type": "execute_result"
    }
   ],
   "source": [
    "#Dropping unwanted columns\n",
    "df=df.drop(['Employee_Name','MaritalStatusID','Position','State','MaritalDesc','CitizenDesc','HispanicLatino','RaceDesc','TermReason','ManagerName','ManagerID'],axis=1)\n",
    "df.head()"
   ]
  },
  {
   "cell_type": "code",
   "execution_count": 14,
   "id": "a1340301",
   "metadata": {},
   "outputs": [
    {
     "data": {
      "text/plain": [
       "(311, 24)"
      ]
     },
     "execution_count": 14,
     "metadata": {},
     "output_type": "execute_result"
    }
   ],
   "source": [
    "df.shape"
   ]
  },
  {
   "cell_type": "code",
   "execution_count": 15,
   "id": "3ed16dc8",
   "metadata": {},
   "outputs": [
    {
     "data": {
      "text/plain": [
       "EmpID                         0\n",
       "MarriedID                     0\n",
       "GenderID                      0\n",
       "EmpStatusID                   0\n",
       "DeptID                        0\n",
       "PerfScoreID                   0\n",
       "FromDiversityJobFairID        0\n",
       "Salary                        0\n",
       "Termd                         0\n",
       "PositionID                    0\n",
       "Zip                           0\n",
       "DOB                           0\n",
       "Sex                           0\n",
       "DateofHire                    0\n",
       "EmploymentStatus              0\n",
       "Department                    0\n",
       "RecruitmentSource             0\n",
       "PerformanceScore              0\n",
       "EngagementSurvey              0\n",
       "EmpSatisfaction               0\n",
       "SpecialProjectsCount          0\n",
       "LastPerformanceReview_Date    0\n",
       "DaysLateLast30                0\n",
       "Absences                      0\n",
       "dtype: int64"
      ]
     },
     "execution_count": 15,
     "metadata": {},
     "output_type": "execute_result"
    }
   ],
   "source": [
    "df.isna().sum()"
   ]
  },
  {
   "cell_type": "code",
   "execution_count": 16,
   "id": "03d793b9",
   "metadata": {},
   "outputs": [
    {
     "data": {
      "text/plain": [
       "Index(['EmpID', 'MarriedID', 'GenderID', 'EmpStatusID', 'DeptID',\n",
       "       'PerfScoreID', 'FromDiversityJobFairID', 'Salary', 'Termd',\n",
       "       'PositionID', 'Zip', 'EngagementSurvey', 'EmpSatisfaction',\n",
       "       'SpecialProjectsCount', 'DaysLateLast30', 'Absences'],\n",
       "      dtype='object')"
      ]
     },
     "execution_count": 16,
     "metadata": {},
     "output_type": "execute_result"
    }
   ],
   "source": [
    "#Checking the outliers\n",
    "numcols = df.dtypes[(df.dtypes=='int64') | (df.dtypes=='float64')].index\n",
    "numcols"
   ]
  },
  {
   "cell_type": "code",
   "execution_count": 17,
   "id": "f4b89b23",
   "metadata": {},
   "outputs": [
    {
     "data": {
      "image/png": "[encoded data removed]",
      "text/plain": [
       "<Figure size 432x288 with 1 Axes>"
      ]
     },
     "metadata": {
      "needs_background": "light"
     },
     "output_type": "display_data"
    },
    {
     "data": {
      "image/png": "[encoded data removed]",
      "text/plain": [
       "<Figure size 432x288 with 1 Axes>"
      ]
     },
     "metadata": {
      "needs_background": "light"
     },
     "output_type": "display_data"
    },
    {
     "data": {
      "image/png": "[encoded data removed]",
      "text/plain": [
       "<Figure size 432x288 with 1 Axes>"
      ]
     },
     "metadata": {
      "needs_background": "light"
     },
     "output_type": "display_data"
    },
    {
     "data": {
      "image/png": "[encoded data removed]",
      "text/plain": [
       "<Figure size 432x288 with 1 Axes>"
      ]
     },
     "metadata": {
      "needs_background": "light"
     },
     "output_type": "display_data"
    },
    {
     "data": {
      "image/png": "[encoded data removed]",
      "text/plain": [
       "<Figure size 432x288 with 1 Axes>"
      ]
     },
     "metadata": {
      "needs_background": "light"
     },
     "output_type": "display_data"
    },
    {
     "data": {
      "image/png": "[encoded data removed]",
      "text/plain": [
       "<Figure size 432x288 with 1 Axes>"
      ]
     },
     "metadata": {
      "needs_background": "light"
     },
     "output_type": "display_data"
    },
    {
     "data": {
      "image/png": "[encoded data removed]",
      "text/plain": [
       "<Figure size 432x288 with 1 Axes>"
      ]
     },
     "metadata": {
      "needs_background": "light"
     },
     "output_type": "display_data"
    },
    {
     "data": {
      "image/png": "[encoded data removed]",
      "text/plain": [
       "<Figure size 432x288 with 1 Axes>"
      ]
     },
     "metadata": {
      "needs_background": "light"
     },
     "output_type": "display_data"
    },
    {
     "data": {
      "image/png": "[encoded data removed]",
      "text/plain": [
       "<Figure size 432x288 with 1 Axes>"
      ]
     },
     "metadata": {
      "needs_background": "light"
     },
     "output_type": "display_data"
    },
    {
     "data": {
      "image/png": "[encoded data removed]",
      "text/plain": [
       "<Figure size 432x288 with 1 Axes>"
      ]
     },
     "metadata": {
      "needs_background": "light"
     },
     "output_type": "display_data"
    },
    {
     "data": {
      "image/png": "[encoded data removed]",
      "text/plain": [
       "<Figure size 432x288 with 1 Axes>"
      ]
     },
     "metadata": {
      "needs_background": "light"
     },
     "output_type": "display_data"
    },
    {
     "data": {
      "image/png": "[encoded data removed]",
      "text/plain": [
       "<Figure size 432x288 with 1 Axes>"
      ]
     },
     "metadata": {
      "needs_background": "light"
     },
     "output_type": "display_data"
    },
    {
     "data": {
      "image/png": "[encoded data removed]",
      "text/plain": [
       "<Figure size 432x288 with 1 Axes>"
      ]
     },
     "metadata": {
      "needs_background": "light"
     },
     "output_type": "display_data"
    },
    {
     "data": {
      "image/png": "[encoded data removed]",
      "text/plain": [
       "<Figure size 432x288 with 1 Axes>"
      ]
     },
     "metadata": {
      "needs_background": "light"
     },
     "output_type": "display_data"
    },
    {
     "data": {
      "image/png": "[encoded data removed]",
      "text/plain": [
       "<Figure size 432x288 with 1 Axes>"
      ]
     },
     "metadata": {
      "needs_background": "light"
     },
     "output_type": "display_data"
    },
    {
     "data": {
      "image/png": "[encoded data removed]",
      "text/plain": [
       "<Figure size 432x288 with 1 Axes>"
      ]
     },
     "metadata": {
      "needs_background": "light"
     },
     "output_type": "display_data"
    }
   ],
   "source": [
    "for x in numcols:\n",
    "    sns.boxplot(df[x],orient='h')\n",
    "    plt.title(x)\n",
    "    plt.show()"
   ]
  },
  {
   "cell_type": "code",
   "execution_count": 18,
   "id": "e876d08f",
   "metadata": {},
   "outputs": [
    {
     "name": "stdout",
     "output_type": "stream",
     "text": [
      "EmpID\n",
      "MarriedID\n",
      "GenderID\n",
      "EmpStatusID\n",
      "DeptID\n",
      "PerfScoreID\n",
      "FromDiversityJobFairID\n",
      "Salary\n",
      "Termd\n",
      "PositionID\n",
      "Zip\n",
      "EngagementSurvey\n",
      "EmpSatisfaction\n",
      "SpecialProjectsCount\n",
      "DaysLateLast30\n",
      "Absences\n"
     ]
    }
   ],
   "source": [
    "for x in numcols:\n",
    "    print(x)\n",
    "    descr = df[x].describe()\n",
    "    IQR = descr['75%'] - descr['25%']\n",
    "    upper_limit =  descr['75%'] + 1.5 * IQR\n",
    "    lower_limit =  descr['25%'] - 1.5 * IQR  \n",
    "    #outlier replacement\n",
    "    df[x][df[x]>upper_limit] = upper_limit\n",
    "    df[x][df[x]<lower_limit] = lower_limit"
   ]
  },
  {
   "cell_type": "code",
   "execution_count": 19,
   "id": "6b3dff5b",
   "metadata": {},
   "outputs": [
    {
     "data": {
      "image/png": "[encoded data removed]",
      "text/plain": [
       "<Figure size 432x288 with 1 Axes>"
      ]
     },
     "metadata": {
      "needs_background": "light"
     },
     "output_type": "display_data"
    },
    {
     "data": {
      "image/png": "[encoded data removed]",
      "text/plain": [
       "<Figure size 432x288 with 1 Axes>"
      ]
     },
     "metadata": {
      "needs_background": "light"
     },
     "output_type": "display_data"
    },
    {
     "data": {
      "image/png": "[encoded data removed]",
      "text/plain": [
       "<Figure size 432x288 with 1 Axes>"
      ]
     },
     "metadata": {
      "needs_background": "light"
     },
     "output_type": "display_data"
    },
    {
     "data": {
      "image/png": "[encoded data removed]",
      "text/plain": [
       "<Figure size 432x288 with 1 Axes>"
      ]
     },
     "metadata": {
      "needs_background": "light"
     },
     "output_type": "display_data"
    },
    {
     "data": {
      "image/png": "[encoded data removed]",
      "text/plain": [
       "<Figure size 432x288 with 1 Axes>"
      ]
     },
     "metadata": {
      "needs_background": "light"
     },
     "output_type": "display_data"
    },
    {
     "data": {
      "image/png": "[encoded data removed]",
      "text/plain": [
       "<Figure size 432x288 with 1 Axes>"
      ]
     },
     "metadata": {
      "needs_background": "light"
     },
     "output_type": "display_data"
    },
    {
     "data": {
      "image/png": "[encoded data removed]",
      "text/plain": [
       "<Figure size 432x288 with 1 Axes>"
      ]
     },
     "metadata": {
      "needs_background": "light"
     },
     "output_type": "display_data"
    },
    {
     "data": {
      "image/png": "[encoded data removed]",
      "text/plain": [
       "<Figure size 432x288 with 1 Axes>"
      ]
     },
     "metadata": {
      "needs_background": "light"
     },
     "output_type": "display_data"
    },
    {
     "data": {
      "image/png": "[encoded data removed]",
      "text/plain": [
       "<Figure size 432x288 with 1 Axes>"
      ]
     },
     "metadata": {
      "needs_background": "light"
     },
     "output_type": "display_data"
    },
    {
     "data": {
      "image/png": "[encoded data removed]",
      "text/plain": [
       "<Figure size 432x288 with 1 Axes>"
      ]
     },
     "metadata": {
      "needs_background": "light"
     },
     "output_type": "display_data"
    },
    {
     "data": {
      "image/png": "[encoded data removed]",
      "text/plain": [
       "<Figure size 432x288 with 1 Axes>"
      ]
     },
     "metadata": {
      "needs_background": "light"
     },
     "output_type": "display_data"
    },
    {
     "data": {
      "image/png": "[encoded data removed]",
      "text/plain": [
       "<Figure size 432x288 with 1 Axes>"
      ]
     },
     "metadata": {
      "needs_background": "light"
     },
     "output_type": "display_data"
    },
    {
     "data": {
      "image/png": "[encoded data removed]",
      "text/plain": [
       "<Figure size 432x288 with 1 Axes>"
      ]
     },
     "metadata": {
      "needs_background": "light"
     },
     "output_type": "display_data"
    },
    {
     "data": {
      "image/png": "[encoded data removed]",
      "text/plain": [
       "<Figure size 432x288 with 1 Axes>"
      ]
     },
     "metadata": {
      "needs_background": "light"
     },
     "output_type": "display_data"
    },
    {
     "data": {
      "image/png": "[encoded data removed]",
      "text/plain": [
       "<Figure size 432x288 with 1 Axes>"
      ]
     },
     "metadata": {
      "needs_background": "light"
     },
     "output_type": "display_data"
    },
    {
     "data": {
      "image/png": "[encoded data removed]",
      "text/plain": [
       "<Figure size 432x288 with 1 Axes>"
      ]
     },
     "metadata": {
      "needs_background": "light"
     },
     "output_type": "display_data"
    }
   ],
   "source": [
    "for x in numcols:\n",
    "    sns.boxplot(df[x],orient='h')\n",
    "    plt.title(x)\n",
    "    plt.show()"
   ]
  },
  {
   "cell_type": "code",
   "execution_count": 20,
   "id": "a762a9fa",
   "metadata": {},
   "outputs": [
    {
     "data": {
      "text/plain": [
       "<AxesSubplot:>"
      ]
     },
     "execution_count": 20,
     "metadata": {},
     "output_type": "execute_result"
    },
    {
     "data": {
      "image/png": "[encoded data removed]",
      "text/plain": [
       "<Figure size 1440x1080 with 2 Axes>"
      ]
     },
     "metadata": {
      "needs_background": "light"
     },
     "output_type": "display_data"
    }
   ],
   "source": [
    "plt.figure(figsize=(20,15))\n",
    "sns.heatmap(data.corr(),cmap=\"YlGnBu\",annot=True)"
   ]
  },
  {
   "cell_type": "code",
   "execution_count": 21,
   "id": "f2691333",
   "metadata": {},
   "outputs": [
    {
     "data": {
      "text/plain": [
       "array([[<AxesSubplot:title={'center':'EmpID'}>,\n",
       "        <AxesSubplot:title={'center':'MarriedID'}>,\n",
       "        <AxesSubplot:title={'center':'GenderID'}>,\n",
       "        <AxesSubplot:title={'center':'EmpStatusID'}>],\n",
       "       [<AxesSubplot:title={'center':'DeptID'}>,\n",
       "        <AxesSubplot:title={'center':'PerfScoreID'}>,\n",
       "        <AxesSubplot:title={'center':'FromDiversityJobFairID'}>,\n",
       "        <AxesSubplot:title={'center':'Salary'}>],\n",
       "       [<AxesSubplot:title={'center':'Termd'}>,\n",
       "        <AxesSubplot:title={'center':'PositionID'}>,\n",
       "        <AxesSubplot:title={'center':'Zip'}>,\n",
       "        <AxesSubplot:title={'center':'EngagementSurvey'}>],\n",
       "       [<AxesSubplot:title={'center':'EmpSatisfaction'}>,\n",
       "        <AxesSubplot:title={'center':'SpecialProjectsCount'}>,\n",
       "        <AxesSubplot:title={'center':'DaysLateLast30'}>,\n",
       "        <AxesSubplot:title={'center':'Absences'}>]], dtype=object)"
      ]
     },
     "execution_count": 21,
     "metadata": {},
     "output_type": "execute_result"
    },
    {
     "data": {
      "image/png": "[encoded data removed]",
      "text/plain": [
       "<Figure size 720x720 with 16 Axes>"
      ]
     },
     "metadata": {
      "needs_background": "light"
     },
     "output_type": "display_data"
    }
   ],
   "source": [
    "df.hist(figsize=(10,10))"
   ]
  },
  {
   "cell_type": "code",
   "execution_count": 22,
   "id": "9fc6b10d",
   "metadata": {},
   "outputs": [
    {
     "data": {
      "text/plain": [
       "<AxesSubplot:xlabel='PerformanceScore', ylabel='count'>"
      ]
     },
     "execution_count": 22,
     "metadata": {},
     "output_type": "execute_result"
    },
    {
     "data": {
      "image/png": "[encoded data removed]",
      "text/plain": [
       "<Figure size 720x360 with 1 Axes>"
      ]
     },
     "metadata": {
      "needs_background": "light"
     },
     "output_type": "display_data"
    }
   ],
   "source": [
    "plt.figure(figsize=(10,5))\n",
    "sns.countplot(x='PerformanceScore', data=df, hue = 'Sex', palette='viridis')"
   ]
  },
  {
   "cell_type": "markdown",
   "id": "7b6a1f8d",
   "metadata": {},
   "source": [
    "Most of the employees fully meet the performance score"
   ]
  },
  {
   "cell_type": "code",
   "execution_count": 23,
   "id": "c0c2c4b6",
   "metadata": {},
   "outputs": [
    {
     "data": {
      "text/plain": [
       "<AxesSubplot:xlabel='EmploymentStatus', ylabel='count'>"
      ]
     },
     "execution_count": 23,
     "metadata": {},
     "output_type": "execute_result"
    },
    {
     "data": {
      "image/png": "[encoded data removed]",
      "text/plain": [
       "<Figure size 720x360 with 1 Axes>"
      ]
     },
     "metadata": {
      "needs_background": "light"
     },
     "output_type": "display_data"
    }
   ],
   "source": [
    "plt.figure(figsize=(10,5))\n",
    "sns.countplot(x='EmploymentStatus', data=df, hue = 'Sex', palette='viridis')"
   ]
  },
  {
   "cell_type": "markdown",
   "id": "bea198eb",
   "metadata": {},
   "source": [
    "Number of active employees are higher compared to the terminated ones"
   ]
  },
  {
   "cell_type": "code",
   "execution_count": 24,
   "id": "b756b2e0",
   "metadata": {},
   "outputs": [
    {
     "data": {
      "text/plain": [
       "<AxesSubplot:xlabel='Salary', ylabel='Sex'>"
      ]
     },
     "execution_count": 24,
     "metadata": {},
     "output_type": "execute_result"
    },
    {
     "data": {
      "image/png": "[encoded data removed]",
      "text/plain": [
       "<Figure size 432x288 with 1 Axes>"
      ]
     },
     "metadata": {
      "needs_background": "light"
     },
     "output_type": "display_data"
    }
   ],
   "source": [
    "df.plot.scatter(\"Salary\",\"Sex\")"
   ]
  },
  {
   "cell_type": "code",
   "execution_count": 25,
   "id": "f9d3dfd5",
   "metadata": {},
   "outputs": [
    {
     "data": {
      "text/plain": [
       "<AxesSubplot:title={'center':'Salary of Departments'}, xlabel='Department'>"
      ]
     },
     "execution_count": 25,
     "metadata": {},
     "output_type": "execute_result"
    },
    {
     "data": {
      "image/png": "[encoded data removed]",
      "text/plain": [
       "<Figure size 864x432 with 1 Axes>"
      ]
     },
     "metadata": {
      "needs_background": "light"
     },
     "output_type": "display_data"
    }
   ],
   "source": [
    "plt.figure()\n",
    "df.groupby('Department')['Salary'].sum().sort_values(ascending=False).plot.bar(figsize=(12,6), title=\"Salary of Departments\")"
   ]
  },
  {
   "cell_type": "markdown",
   "id": "65946a42",
   "metadata": {},
   "source": [
    "Production Department has highest and Executive office has lowest salaries"
   ]
  },
  {
   "cell_type": "code",
   "execution_count": 26,
   "id": "ff8acce7",
   "metadata": {},
   "outputs": [
    {
     "data": {
      "text/html": [
       "<div>\n",
       "<style scoped>\n",
       "    .dataframe tbody tr th:only-of-type {\n",
       "        vertical-align: middle;\n",
       "    }\n",
       "\n",
       "    .dataframe tbody tr th {\n",
       "        vertical-align: top;\n",
       "    }\n",
       "\n",
       "    .dataframe thead tr th {\n",
       "        text-align: left;\n",
       "    }\n",
       "\n",
       "    .dataframe thead tr:last-of-type th {\n",
       "        text-align: right;\n",
       "    }\n",
       "</style>\n",
       "<table border=\"1\" class=\"dataframe\">\n",
       "  <thead>\n",
       "    <tr>\n",
       "      <th></th>\n",
       "      <th colspan=\"8\" halign=\"left\">Salary</th>\n",
       "    </tr>\n",
       "    <tr>\n",
       "      <th></th>\n",
       "      <th>count</th>\n",
       "      <th>mean</th>\n",
       "      <th>std</th>\n",
       "      <th>min</th>\n",
       "      <th>25%</th>\n",
       "      <th>50%</th>\n",
       "      <th>75%</th>\n",
       "      <th>max</th>\n",
       "    </tr>\n",
       "    <tr>\n",
       "      <th>Department</th>\n",
       "      <th></th>\n",
       "      <th></th>\n",
       "      <th></th>\n",
       "      <th></th>\n",
       "      <th></th>\n",
       "      <th></th>\n",
       "      <th></th>\n",
       "      <th></th>\n",
       "    </tr>\n",
       "  </thead>\n",
       "  <tbody>\n",
       "    <tr>\n",
       "      <th>Admin Offices</th>\n",
       "      <td>9.0</td>\n",
       "      <td>70453.833333</td>\n",
       "      <td>19534.825610</td>\n",
       "      <td>49920.00</td>\n",
       "      <td>55000.00</td>\n",
       "      <td>63003.00</td>\n",
       "      <td>93046.00</td>\n",
       "      <td>96837.75</td>\n",
       "    </tr>\n",
       "    <tr>\n",
       "      <th>Executive Office</th>\n",
       "      <td>1.0</td>\n",
       "      <td>96837.750000</td>\n",
       "      <td>NaN</td>\n",
       "      <td>96837.75</td>\n",
       "      <td>96837.75</td>\n",
       "      <td>96837.75</td>\n",
       "      <td>96837.75</td>\n",
       "      <td>96837.75</td>\n",
       "    </tr>\n",
       "    <tr>\n",
       "      <th>IT/IS</th>\n",
       "      <td>50.0</td>\n",
       "      <td>85416.965000</td>\n",
       "      <td>14924.181917</td>\n",
       "      <td>50178.00</td>\n",
       "      <td>77417.75</td>\n",
       "      <td>92328.50</td>\n",
       "      <td>96837.75</td>\n",
       "      <td>96837.75</td>\n",
       "    </tr>\n",
       "    <tr>\n",
       "      <th>Production</th>\n",
       "      <td>209.0</td>\n",
       "      <td>59601.094498</td>\n",
       "      <td>8839.704487</td>\n",
       "      <td>45046.00</td>\n",
       "      <td>53018.00</td>\n",
       "      <td>59472.00</td>\n",
       "      <td>64066.00</td>\n",
       "      <td>96837.75</td>\n",
       "    </tr>\n",
       "    <tr>\n",
       "      <th>Sales</th>\n",
       "      <td>31.0</td>\n",
       "      <td>66378.604839</td>\n",
       "      <td>7778.600281</td>\n",
       "      <td>55875.00</td>\n",
       "      <td>61561.50</td>\n",
       "      <td>65310.00</td>\n",
       "      <td>70506.50</td>\n",
       "      <td>96837.75</td>\n",
       "    </tr>\n",
       "    <tr>\n",
       "      <th>Software Engineering</th>\n",
       "      <td>11.0</td>\n",
       "      <td>92136.613636</td>\n",
       "      <td>6677.804992</td>\n",
       "      <td>77692.00</td>\n",
       "      <td>89601.50</td>\n",
       "      <td>95660.00</td>\n",
       "      <td>96837.75</td>\n",
       "      <td>96837.75</td>\n",
       "    </tr>\n",
       "  </tbody>\n",
       "</table>\n",
       "</div>"
      ],
      "text/plain": [
       "                     Salary                                                  \\\n",
       "                      count          mean           std       min       25%   \n",
       "Department                                                                    \n",
       "Admin Offices           9.0  70453.833333  19534.825610  49920.00  55000.00   \n",
       "Executive Office        1.0  96837.750000           NaN  96837.75  96837.75   \n",
       "IT/IS                  50.0  85416.965000  14924.181917  50178.00  77417.75   \n",
       "Production            209.0  59601.094498   8839.704487  45046.00  53018.00   \n",
       "Sales                  31.0  66378.604839   7778.600281  55875.00  61561.50   \n",
       "Software Engineering   11.0  92136.613636   6677.804992  77692.00  89601.50   \n",
       "\n",
       "                                                    \n",
       "                           50%       75%       max  \n",
       "Department                                          \n",
       "Admin Offices         63003.00  93046.00  96837.75  \n",
       "Executive Office      96837.75  96837.75  96837.75  \n",
       "IT/IS                 92328.50  96837.75  96837.75  \n",
       "Production            59472.00  64066.00  96837.75  \n",
       "Sales                 65310.00  70506.50  96837.75  \n",
       "Software Engineering  95660.00  96837.75  96837.75  "
      ]
     },
     "execution_count": 26,
     "metadata": {},
     "output_type": "execute_result"
    }
   ],
   "source": [
    "dp = df[[\"Salary\",\"Department\"]].groupby(\"Department\").describe()\n",
    "dp"
   ]
  },
  {
   "cell_type": "markdown",
   "id": "6d8fa405",
   "metadata": {},
   "source": [
    "In case of average IT/IS department have higher salary"
   ]
  },
  {
   "cell_type": "code",
   "execution_count": 27,
   "id": "aac7e043",
   "metadata": {},
   "outputs": [
    {
     "data": {
      "text/plain": [
       "Text(0.5, 1.0, 'Employees gender')"
      ]
     },
     "execution_count": 27,
     "metadata": {},
     "output_type": "execute_result"
    },
    {
     "data": {
      "image/png": "[encoded data removed]",
      "text/plain": [
       "<Figure size 432x288 with 1 Axes>"
      ]
     },
     "metadata": {},
     "output_type": "display_data"
    }
   ],
   "source": [
    "df['Sex'].value_counts().plot(kind='pie')\n",
    "plt.title('Employees gender')"
   ]
  },
  {
   "cell_type": "markdown",
   "id": "cbb3eb89",
   "metadata": {},
   "source": [
    "Most of the employees are females"
   ]
  },
  {
   "cell_type": "code",
   "execution_count": 28,
   "id": "f56dce4b",
   "metadata": {},
   "outputs": [
    {
     "data": {
      "text/plain": [
       "<AxesSubplot:ylabel='RecruitmentSource'>"
      ]
     },
     "execution_count": 28,
     "metadata": {},
     "output_type": "execute_result"
    },
    {
     "data": {
      "image/png": "[encoded data removed]",
      "text/plain": [
       "<Figure size 432x288 with 1 Axes>"
      ]
     },
     "metadata": {},
     "output_type": "display_data"
    }
   ],
   "source": [
    "df[\"RecruitmentSource\"].value_counts().plot.pie()"
   ]
  },
  {
   "cell_type": "markdown",
   "id": "2d33d847",
   "metadata": {},
   "source": [
    "LinkedIn and Indeed have done most of the recruitments."
   ]
  },
  {
   "cell_type": "code",
   "execution_count": 29,
   "id": "71d99ebb",
   "metadata": {},
   "outputs": [
    {
     "data": {
      "text/html": [
       "<div>\n",
       "<style scoped>\n",
       "    .dataframe tbody tr th:only-of-type {\n",
       "        vertical-align: middle;\n",
       "    }\n",
       "\n",
       "    .dataframe tbody tr th {\n",
       "        vertical-align: top;\n",
       "    }\n",
       "\n",
       "    .dataframe thead th {\n",
       "        text-align: right;\n",
       "    }\n",
       "</style>\n",
       "<table border=\"1\" class=\"dataframe\">\n",
       "  <thead>\n",
       "    <tr style=\"text-align: right;\">\n",
       "      <th></th>\n",
       "      <th>EmpID</th>\n",
       "      <th>MarriedID</th>\n",
       "      <th>GenderID</th>\n",
       "      <th>EmpStatusID</th>\n",
       "      <th>DeptID</th>\n",
       "      <th>PerfScoreID</th>\n",
       "      <th>FromDiversityJobFairID</th>\n",
       "      <th>Salary</th>\n",
       "      <th>Termd</th>\n",
       "      <th>PositionID</th>\n",
       "      <th>Zip</th>\n",
       "      <th>Sex</th>\n",
       "      <th>EmploymentStatus</th>\n",
       "      <th>Department</th>\n",
       "      <th>RecruitmentSource</th>\n",
       "      <th>PerformanceScore</th>\n",
       "      <th>EngagementSurvey</th>\n",
       "      <th>EmpSatisfaction</th>\n",
       "      <th>SpecialProjectsCount</th>\n",
       "      <th>DaysLateLast30</th>\n",
       "      <th>Absences</th>\n",
       "    </tr>\n",
       "  </thead>\n",
       "  <tbody>\n",
       "    <tr>\n",
       "      <th>0</th>\n",
       "      <td>10026</td>\n",
       "      <td>0</td>\n",
       "      <td>1</td>\n",
       "      <td>1</td>\n",
       "      <td>5</td>\n",
       "      <td>3</td>\n",
       "      <td>0</td>\n",
       "      <td>62506.00</td>\n",
       "      <td>0</td>\n",
       "      <td>19</td>\n",
       "      <td>1960.0</td>\n",
       "      <td>M</td>\n",
       "      <td>Active</td>\n",
       "      <td>Production</td>\n",
       "      <td>LinkedIn</td>\n",
       "      <td>Exceeds</td>\n",
       "      <td>4.60</td>\n",
       "      <td>5</td>\n",
       "      <td>0</td>\n",
       "      <td>0</td>\n",
       "      <td>1</td>\n",
       "    </tr>\n",
       "    <tr>\n",
       "      <th>1</th>\n",
       "      <td>10084</td>\n",
       "      <td>1</td>\n",
       "      <td>1</td>\n",
       "      <td>5</td>\n",
       "      <td>5</td>\n",
       "      <td>3</td>\n",
       "      <td>0</td>\n",
       "      <td>96837.75</td>\n",
       "      <td>1</td>\n",
       "      <td>23</td>\n",
       "      <td>2148.0</td>\n",
       "      <td>M</td>\n",
       "      <td>Voluntarily Terminated</td>\n",
       "      <td>IT/IS</td>\n",
       "      <td>Indeed</td>\n",
       "      <td>Fully Meets</td>\n",
       "      <td>4.96</td>\n",
       "      <td>3</td>\n",
       "      <td>0</td>\n",
       "      <td>0</td>\n",
       "      <td>17</td>\n",
       "    </tr>\n",
       "    <tr>\n",
       "      <th>2</th>\n",
       "      <td>10196</td>\n",
       "      <td>1</td>\n",
       "      <td>0</td>\n",
       "      <td>5</td>\n",
       "      <td>5</td>\n",
       "      <td>3</td>\n",
       "      <td>0</td>\n",
       "      <td>64955.00</td>\n",
       "      <td>1</td>\n",
       "      <td>20</td>\n",
       "      <td>1810.0</td>\n",
       "      <td>F</td>\n",
       "      <td>Voluntarily Terminated</td>\n",
       "      <td>Production</td>\n",
       "      <td>LinkedIn</td>\n",
       "      <td>Fully Meets</td>\n",
       "      <td>3.02</td>\n",
       "      <td>3</td>\n",
       "      <td>0</td>\n",
       "      <td>0</td>\n",
       "      <td>3</td>\n",
       "    </tr>\n",
       "    <tr>\n",
       "      <th>3</th>\n",
       "      <td>10088</td>\n",
       "      <td>1</td>\n",
       "      <td>0</td>\n",
       "      <td>1</td>\n",
       "      <td>5</td>\n",
       "      <td>3</td>\n",
       "      <td>0</td>\n",
       "      <td>64991.00</td>\n",
       "      <td>0</td>\n",
       "      <td>19</td>\n",
       "      <td>1886.0</td>\n",
       "      <td>F</td>\n",
       "      <td>Active</td>\n",
       "      <td>Production</td>\n",
       "      <td>Indeed</td>\n",
       "      <td>Fully Meets</td>\n",
       "      <td>4.84</td>\n",
       "      <td>5</td>\n",
       "      <td>0</td>\n",
       "      <td>0</td>\n",
       "      <td>15</td>\n",
       "    </tr>\n",
       "    <tr>\n",
       "      <th>4</th>\n",
       "      <td>10069</td>\n",
       "      <td>0</td>\n",
       "      <td>0</td>\n",
       "      <td>5</td>\n",
       "      <td>5</td>\n",
       "      <td>3</td>\n",
       "      <td>0</td>\n",
       "      <td>50825.00</td>\n",
       "      <td>1</td>\n",
       "      <td>19</td>\n",
       "      <td>2169.0</td>\n",
       "      <td>F</td>\n",
       "      <td>Voluntarily Terminated</td>\n",
       "      <td>Production</td>\n",
       "      <td>Google Search</td>\n",
       "      <td>Fully Meets</td>\n",
       "      <td>5.00</td>\n",
       "      <td>4</td>\n",
       "      <td>0</td>\n",
       "      <td>0</td>\n",
       "      <td>2</td>\n",
       "    </tr>\n",
       "  </tbody>\n",
       "</table>\n",
       "</div>"
      ],
      "text/plain": [
       "   EmpID  MarriedID  GenderID  EmpStatusID  DeptID  PerfScoreID  \\\n",
       "0  10026          0         1            1       5            3   \n",
       "1  10084          1         1            5       5            3   \n",
       "2  10196          1         0            5       5            3   \n",
       "3  10088          1         0            1       5            3   \n",
       "4  10069          0         0            5       5            3   \n",
       "\n",
       "   FromDiversityJobFairID    Salary  Termd  PositionID     Zip Sex  \\\n",
       "0                       0  62506.00      0          19  1960.0  M    \n",
       "1                       0  96837.75      1          23  2148.0  M    \n",
       "2                       0  64955.00      1          20  1810.0   F   \n",
       "3                       0  64991.00      0          19  1886.0   F   \n",
       "4                       0  50825.00      1          19  2169.0   F   \n",
       "\n",
       "         EmploymentStatus         Department RecruitmentSource  \\\n",
       "0                  Active  Production                 LinkedIn   \n",
       "1  Voluntarily Terminated              IT/IS            Indeed   \n",
       "2  Voluntarily Terminated  Production                 LinkedIn   \n",
       "3                  Active  Production                   Indeed   \n",
       "4  Voluntarily Terminated  Production            Google Search   \n",
       "\n",
       "  PerformanceScore  EngagementSurvey  EmpSatisfaction  SpecialProjectsCount  \\\n",
       "0          Exceeds              4.60                5                     0   \n",
       "1      Fully Meets              4.96                3                     0   \n",
       "2      Fully Meets              3.02                3                     0   \n",
       "3      Fully Meets              4.84                5                     0   \n",
       "4      Fully Meets              5.00                4                     0   \n",
       "\n",
       "   DaysLateLast30  Absences  \n",
       "0               0         1  \n",
       "1               0        17  \n",
       "2               0         3  \n",
       "3               0        15  \n",
       "4               0         2  "
      ]
     },
     "execution_count": 29,
     "metadata": {},
     "output_type": "execute_result"
    }
   ],
   "source": [
    "df=df.drop(['DOB','DateofHire','LastPerformanceReview_Date'],axis=1)\n",
    "df.head()"
   ]
  },
  {
   "cell_type": "code",
   "execution_count": 30,
   "id": "4bf4c674",
   "metadata": {},
   "outputs": [
    {
     "data": {
      "text/plain": [
       "(311, 21)"
      ]
     },
     "execution_count": 30,
     "metadata": {},
     "output_type": "execute_result"
    }
   ],
   "source": [
    "df.shape"
   ]
  },
  {
   "cell_type": "code",
   "execution_count": 31,
   "id": "bc57dbbe",
   "metadata": {},
   "outputs": [
    {
     "data": {
      "text/plain": [
       "Index(['EmpID', 'MarriedID', 'GenderID', 'EmpStatusID', 'DeptID',\n",
       "       'PerfScoreID', 'FromDiversityJobFairID', 'Salary', 'Termd',\n",
       "       'PositionID', 'Zip', 'Sex', 'EmploymentStatus', 'Department',\n",
       "       'RecruitmentSource', 'PerformanceScore', 'EngagementSurvey',\n",
       "       'EmpSatisfaction', 'SpecialProjectsCount', 'DaysLateLast30',\n",
       "       'Absences'],\n",
       "      dtype='object')"
      ]
     },
     "execution_count": 31,
     "metadata": {},
     "output_type": "execute_result"
    }
   ],
   "source": [
    "df.columns"
   ]
  },
  {
   "cell_type": "code",
   "execution_count": 32,
   "id": "21564052",
   "metadata": {},
   "outputs": [],
   "source": [
    "new_df=df.copy()"
   ]
  },
  {
   "cell_type": "code",
   "execution_count": 33,
   "id": "3e9439f7",
   "metadata": {},
   "outputs": [
    {
     "data": {
      "text/html": [
       "<div>\n",
       "<style scoped>\n",
       "    .dataframe tbody tr th:only-of-type {\n",
       "        vertical-align: middle;\n",
       "    }\n",
       "\n",
       "    .dataframe tbody tr th {\n",
       "        vertical-align: top;\n",
       "    }\n",
       "\n",
       "    .dataframe thead th {\n",
       "        text-align: right;\n",
       "    }\n",
       "</style>\n",
       "<table border=\"1\" class=\"dataframe\">\n",
       "  <thead>\n",
       "    <tr style=\"text-align: right;\">\n",
       "      <th></th>\n",
       "      <th>EmpID</th>\n",
       "      <th>MarriedID</th>\n",
       "      <th>GenderID</th>\n",
       "      <th>EmpStatusID</th>\n",
       "      <th>DeptID</th>\n",
       "      <th>PerfScoreID</th>\n",
       "      <th>FromDiversityJobFairID</th>\n",
       "      <th>Salary</th>\n",
       "      <th>Termd</th>\n",
       "      <th>PositionID</th>\n",
       "      <th>Zip</th>\n",
       "      <th>Sex</th>\n",
       "      <th>EmploymentStatus</th>\n",
       "      <th>Department</th>\n",
       "      <th>RecruitmentSource</th>\n",
       "      <th>PerformanceScore</th>\n",
       "      <th>EngagementSurvey</th>\n",
       "      <th>EmpSatisfaction</th>\n",
       "      <th>SpecialProjectsCount</th>\n",
       "      <th>DaysLateLast30</th>\n",
       "      <th>Absences</th>\n",
       "    </tr>\n",
       "  </thead>\n",
       "  <tbody>\n",
       "    <tr>\n",
       "      <th>0</th>\n",
       "      <td>10026</td>\n",
       "      <td>0</td>\n",
       "      <td>1</td>\n",
       "      <td>1</td>\n",
       "      <td>5</td>\n",
       "      <td>3</td>\n",
       "      <td>0</td>\n",
       "      <td>62506.00</td>\n",
       "      <td>0</td>\n",
       "      <td>19</td>\n",
       "      <td>1960.0</td>\n",
       "      <td>1</td>\n",
       "      <td>0</td>\n",
       "      <td>3</td>\n",
       "      <td>5</td>\n",
       "      <td>0</td>\n",
       "      <td>4.60</td>\n",
       "      <td>5</td>\n",
       "      <td>0</td>\n",
       "      <td>0</td>\n",
       "      <td>1</td>\n",
       "    </tr>\n",
       "    <tr>\n",
       "      <th>1</th>\n",
       "      <td>10084</td>\n",
       "      <td>1</td>\n",
       "      <td>1</td>\n",
       "      <td>5</td>\n",
       "      <td>5</td>\n",
       "      <td>3</td>\n",
       "      <td>0</td>\n",
       "      <td>96837.75</td>\n",
       "      <td>1</td>\n",
       "      <td>23</td>\n",
       "      <td>2148.0</td>\n",
       "      <td>1</td>\n",
       "      <td>2</td>\n",
       "      <td>2</td>\n",
       "      <td>4</td>\n",
       "      <td>1</td>\n",
       "      <td>4.96</td>\n",
       "      <td>3</td>\n",
       "      <td>0</td>\n",
       "      <td>0</td>\n",
       "      <td>17</td>\n",
       "    </tr>\n",
       "    <tr>\n",
       "      <th>2</th>\n",
       "      <td>10196</td>\n",
       "      <td>1</td>\n",
       "      <td>0</td>\n",
       "      <td>5</td>\n",
       "      <td>5</td>\n",
       "      <td>3</td>\n",
       "      <td>0</td>\n",
       "      <td>64955.00</td>\n",
       "      <td>1</td>\n",
       "      <td>20</td>\n",
       "      <td>1810.0</td>\n",
       "      <td>0</td>\n",
       "      <td>2</td>\n",
       "      <td>3</td>\n",
       "      <td>5</td>\n",
       "      <td>1</td>\n",
       "      <td>3.02</td>\n",
       "      <td>3</td>\n",
       "      <td>0</td>\n",
       "      <td>0</td>\n",
       "      <td>3</td>\n",
       "    </tr>\n",
       "    <tr>\n",
       "      <th>3</th>\n",
       "      <td>10088</td>\n",
       "      <td>1</td>\n",
       "      <td>0</td>\n",
       "      <td>1</td>\n",
       "      <td>5</td>\n",
       "      <td>3</td>\n",
       "      <td>0</td>\n",
       "      <td>64991.00</td>\n",
       "      <td>0</td>\n",
       "      <td>19</td>\n",
       "      <td>1886.0</td>\n",
       "      <td>0</td>\n",
       "      <td>0</td>\n",
       "      <td>3</td>\n",
       "      <td>4</td>\n",
       "      <td>1</td>\n",
       "      <td>4.84</td>\n",
       "      <td>5</td>\n",
       "      <td>0</td>\n",
       "      <td>0</td>\n",
       "      <td>15</td>\n",
       "    </tr>\n",
       "    <tr>\n",
       "      <th>4</th>\n",
       "      <td>10069</td>\n",
       "      <td>0</td>\n",
       "      <td>0</td>\n",
       "      <td>5</td>\n",
       "      <td>5</td>\n",
       "      <td>3</td>\n",
       "      <td>0</td>\n",
       "      <td>50825.00</td>\n",
       "      <td>1</td>\n",
       "      <td>19</td>\n",
       "      <td>2169.0</td>\n",
       "      <td>0</td>\n",
       "      <td>2</td>\n",
       "      <td>3</td>\n",
       "      <td>3</td>\n",
       "      <td>1</td>\n",
       "      <td>5.00</td>\n",
       "      <td>4</td>\n",
       "      <td>0</td>\n",
       "      <td>0</td>\n",
       "      <td>2</td>\n",
       "    </tr>\n",
       "  </tbody>\n",
       "</table>\n",
       "</div>"
      ],
      "text/plain": [
       "   EmpID  MarriedID  GenderID  EmpStatusID  DeptID  PerfScoreID  \\\n",
       "0  10026          0         1            1       5            3   \n",
       "1  10084          1         1            5       5            3   \n",
       "2  10196          1         0            5       5            3   \n",
       "3  10088          1         0            1       5            3   \n",
       "4  10069          0         0            5       5            3   \n",
       "\n",
       "   FromDiversityJobFairID    Salary  Termd  PositionID     Zip  Sex  \\\n",
       "0                       0  62506.00      0          19  1960.0    1   \n",
       "1                       0  96837.75      1          23  2148.0    1   \n",
       "2                       0  64955.00      1          20  1810.0    0   \n",
       "3                       0  64991.00      0          19  1886.0    0   \n",
       "4                       0  50825.00      1          19  2169.0    0   \n",
       "\n",
       "   EmploymentStatus  Department  RecruitmentSource  PerformanceScore  \\\n",
       "0                 0           3                  5                 0   \n",
       "1                 2           2                  4                 1   \n",
       "2                 2           3                  5                 1   \n",
       "3                 0           3                  4                 1   \n",
       "4                 2           3                  3                 1   \n",
       "\n",
       "   EngagementSurvey  EmpSatisfaction  SpecialProjectsCount  DaysLateLast30  \\\n",
       "0              4.60                5                     0               0   \n",
       "1              4.96                3                     0               0   \n",
       "2              3.02                3                     0               0   \n",
       "3              4.84                5                     0               0   \n",
       "4              5.00                4                     0               0   \n",
       "\n",
       "   Absences  \n",
       "0         1  \n",
       "1        17  \n",
       "2         3  \n",
       "3        15  \n",
       "4         2  "
      ]
     },
     "execution_count": 33,
     "metadata": {},
     "output_type": "execute_result"
    }
   ],
   "source": [
    "#Labelencoder\n",
    "from sklearn.preprocessing import LabelEncoder\n",
    "le=LabelEncoder()\n",
    "new_df['EmploymentStatus']  = le.fit_transform(new_df['EmploymentStatus'])\n",
    "new_df['Sex']  = le.fit_transform(new_df['Sex'])\n",
    "new_df['Department']  = le.fit_transform(new_df['Department'])\n",
    "new_df['RecruitmentSource']  = le.fit_transform(new_df['RecruitmentSource'])\n",
    "new_df['PerformanceScore']  = le.fit_transform(new_df['PerformanceScore'])\n",
    "\n",
    "new_df.head()"
   ]
  },
  {
   "cell_type": "code",
   "execution_count": 34,
   "id": "97bd8ab6",
   "metadata": {},
   "outputs": [
    {
     "data": {
      "text/html": [
       "<div>\n",
       "<style scoped>\n",
       "    .dataframe tbody tr th:only-of-type {\n",
       "        vertical-align: middle;\n",
       "    }\n",
       "\n",
       "    .dataframe tbody tr th {\n",
       "        vertical-align: top;\n",
       "    }\n",
       "\n",
       "    .dataframe thead th {\n",
       "        text-align: right;\n",
       "    }\n",
       "</style>\n",
       "<table border=\"1\" class=\"dataframe\">\n",
       "  <thead>\n",
       "    <tr style=\"text-align: right;\">\n",
       "      <th></th>\n",
       "      <th>EmpID</th>\n",
       "      <th>MarriedID</th>\n",
       "      <th>GenderID</th>\n",
       "      <th>EmpStatusID</th>\n",
       "      <th>DeptID</th>\n",
       "      <th>PerfScoreID</th>\n",
       "      <th>FromDiversityJobFairID</th>\n",
       "      <th>Termd</th>\n",
       "      <th>PositionID</th>\n",
       "      <th>Zip</th>\n",
       "      <th>Sex</th>\n",
       "      <th>EmploymentStatus</th>\n",
       "      <th>Department</th>\n",
       "      <th>RecruitmentSource</th>\n",
       "      <th>PerformanceScore</th>\n",
       "      <th>EngagementSurvey</th>\n",
       "      <th>EmpSatisfaction</th>\n",
       "      <th>SpecialProjectsCount</th>\n",
       "      <th>DaysLateLast30</th>\n",
       "      <th>Absences</th>\n",
       "    </tr>\n",
       "  </thead>\n",
       "  <tbody>\n",
       "    <tr>\n",
       "      <th>0</th>\n",
       "      <td>10026</td>\n",
       "      <td>0</td>\n",
       "      <td>1</td>\n",
       "      <td>1</td>\n",
       "      <td>5</td>\n",
       "      <td>3</td>\n",
       "      <td>0</td>\n",
       "      <td>0</td>\n",
       "      <td>19</td>\n",
       "      <td>1960.0</td>\n",
       "      <td>1</td>\n",
       "      <td>0</td>\n",
       "      <td>3</td>\n",
       "      <td>5</td>\n",
       "      <td>0</td>\n",
       "      <td>4.60</td>\n",
       "      <td>5</td>\n",
       "      <td>0</td>\n",
       "      <td>0</td>\n",
       "      <td>1</td>\n",
       "    </tr>\n",
       "    <tr>\n",
       "      <th>1</th>\n",
       "      <td>10084</td>\n",
       "      <td>1</td>\n",
       "      <td>1</td>\n",
       "      <td>5</td>\n",
       "      <td>5</td>\n",
       "      <td>3</td>\n",
       "      <td>0</td>\n",
       "      <td>1</td>\n",
       "      <td>23</td>\n",
       "      <td>2148.0</td>\n",
       "      <td>1</td>\n",
       "      <td>2</td>\n",
       "      <td>2</td>\n",
       "      <td>4</td>\n",
       "      <td>1</td>\n",
       "      <td>4.96</td>\n",
       "      <td>3</td>\n",
       "      <td>0</td>\n",
       "      <td>0</td>\n",
       "      <td>17</td>\n",
       "    </tr>\n",
       "    <tr>\n",
       "      <th>2</th>\n",
       "      <td>10196</td>\n",
       "      <td>1</td>\n",
       "      <td>0</td>\n",
       "      <td>5</td>\n",
       "      <td>5</td>\n",
       "      <td>3</td>\n",
       "      <td>0</td>\n",
       "      <td>1</td>\n",
       "      <td>20</td>\n",
       "      <td>1810.0</td>\n",
       "      <td>0</td>\n",
       "      <td>2</td>\n",
       "      <td>3</td>\n",
       "      <td>5</td>\n",
       "      <td>1</td>\n",
       "      <td>3.02</td>\n",
       "      <td>3</td>\n",
       "      <td>0</td>\n",
       "      <td>0</td>\n",
       "      <td>3</td>\n",
       "    </tr>\n",
       "    <tr>\n",
       "      <th>3</th>\n",
       "      <td>10088</td>\n",
       "      <td>1</td>\n",
       "      <td>0</td>\n",
       "      <td>1</td>\n",
       "      <td>5</td>\n",
       "      <td>3</td>\n",
       "      <td>0</td>\n",
       "      <td>0</td>\n",
       "      <td>19</td>\n",
       "      <td>1886.0</td>\n",
       "      <td>0</td>\n",
       "      <td>0</td>\n",
       "      <td>3</td>\n",
       "      <td>4</td>\n",
       "      <td>1</td>\n",
       "      <td>4.84</td>\n",
       "      <td>5</td>\n",
       "      <td>0</td>\n",
       "      <td>0</td>\n",
       "      <td>15</td>\n",
       "    </tr>\n",
       "    <tr>\n",
       "      <th>4</th>\n",
       "      <td>10069</td>\n",
       "      <td>0</td>\n",
       "      <td>0</td>\n",
       "      <td>5</td>\n",
       "      <td>5</td>\n",
       "      <td>3</td>\n",
       "      <td>0</td>\n",
       "      <td>1</td>\n",
       "      <td>19</td>\n",
       "      <td>2169.0</td>\n",
       "      <td>0</td>\n",
       "      <td>2</td>\n",
       "      <td>3</td>\n",
       "      <td>3</td>\n",
       "      <td>1</td>\n",
       "      <td>5.00</td>\n",
       "      <td>4</td>\n",
       "      <td>0</td>\n",
       "      <td>0</td>\n",
       "      <td>2</td>\n",
       "    </tr>\n",
       "  </tbody>\n",
       "</table>\n",
       "</div>"
      ],
      "text/plain": [
       "   EmpID  MarriedID  GenderID  EmpStatusID  DeptID  PerfScoreID  \\\n",
       "0  10026          0         1            1       5            3   \n",
       "1  10084          1         1            5       5            3   \n",
       "2  10196          1         0            5       5            3   \n",
       "3  10088          1         0            1       5            3   \n",
       "4  10069          0         0            5       5            3   \n",
       "\n",
       "   FromDiversityJobFairID  Termd  PositionID     Zip  Sex  EmploymentStatus  \\\n",
       "0                       0      0          19  1960.0    1                 0   \n",
       "1                       0      1          23  2148.0    1                 2   \n",
       "2                       0      1          20  1810.0    0                 2   \n",
       "3                       0      0          19  1886.0    0                 0   \n",
       "4                       0      1          19  2169.0    0                 2   \n",
       "\n",
       "   Department  RecruitmentSource  PerformanceScore  EngagementSurvey  \\\n",
       "0           3                  5                 0              4.60   \n",
       "1           2                  4                 1              4.96   \n",
       "2           3                  5                 1              3.02   \n",
       "3           3                  4                 1              4.84   \n",
       "4           3                  3                 1              5.00   \n",
       "\n",
       "   EmpSatisfaction  SpecialProjectsCount  DaysLateLast30  Absences  \n",
       "0                5                     0               0         1  \n",
       "1                3                     0               0        17  \n",
       "2                3                     0               0         3  \n",
       "3                5                     0               0        15  \n",
       "4                4                     0               0         2  "
      ]
     },
     "execution_count": 34,
     "metadata": {},
     "output_type": "execute_result"
    }
   ],
   "source": [
    "#Splitting the dataset\n",
    "x=new_df.drop(['Salary'],axis=1)\n",
    "y=new_df['Salary']\n",
    "x.head()"
   ]
  },
  {
   "cell_type": "code",
   "execution_count": 35,
   "id": "9854efd6",
   "metadata": {},
   "outputs": [],
   "source": [
    "from sklearn.model_selection import train_test_split\n",
    "x_train, x_test,y_train,y_test = train_test_split(x,y,test_size = 0.3,random_state = 42)"
   ]
  },
  {
   "cell_type": "code",
   "execution_count": 36,
   "id": "af459935",
   "metadata": {},
   "outputs": [],
   "source": [
    "from sklearn import preprocessing\n",
    "std=preprocessing.StandardScaler()\n",
    "x_train=std.fit_transform(x_train)\n",
    "x_test=std.transform(x_test)"
   ]
  },
  {
   "cell_type": "markdown",
   "id": "96b0e4c0",
   "metadata": {},
   "source": [
    "# Regression Analysis"
   ]
  },
  {
   "cell_type": "markdown",
   "id": "3360ceff",
   "metadata": {},
   "source": [
    "Salary prediction is done using Regression Analysis"
   ]
  },
  {
   "cell_type": "markdown",
   "id": "d706d403",
   "metadata": {},
   "source": [
    "# Linear Regression"
   ]
  },
  {
   "cell_type": "code",
   "execution_count": 37,
   "id": "9996b305",
   "metadata": {},
   "outputs": [
    {
     "name": "stdout",
     "output_type": "stream",
     "text": [
      "MSE is: 211087636.97729763\n",
      "r2 score is: 0.03162547220844847\n"
     ]
    }
   ],
   "source": [
    "from sklearn import linear_model\n",
    "lr = linear_model.LinearRegression()\n",
    "lr.fit(x_train,y_train)\n",
    "y_pred=lr.predict(x_test)\n",
    "from sklearn.metrics import mean_squared_error,r2_score\n",
    "print('MSE is:',mean_squared_error(y_test,y_pred))\n",
    "print('r2 score is:',r2_score(y_test,y_pred))"
   ]
  },
  {
   "cell_type": "code",
   "execution_count": 38,
   "id": "388d29fa",
   "metadata": {},
   "outputs": [
    {
     "data": {
      "text/plain": [
       "array([68500.20042978, 71669.56287999, 65191.59698077, 66036.64256167,\n",
       "       74511.64939053, 67426.89281255, 73118.73318878, 66693.19324874,\n",
       "       63776.45477214, 56239.45690449, 70117.32923894, 61422.18082568,\n",
       "       56230.57856991, 70521.92164392, 54513.61436622, 65850.29887981,\n",
       "       67968.13045059, 72527.19543068, 78751.23891179, 60841.38884634,\n",
       "       65508.50471398, 68745.51858367, 56990.44901672, 63834.42245482,\n",
       "       69518.49970263, 64527.11567078, 68261.34868221, 64822.02865268,\n",
       "       68786.0187333 , 69791.68193881, 68443.97112666, 70541.73770971,\n",
       "       67446.68623484, 64176.27659386, 68688.04650881, 63531.8274465 ,\n",
       "       70249.50456231, 68289.916682  , 71373.82553361, 66363.73392061,\n",
       "       73312.15196209, 60822.98968575, 64731.60940416, 65571.646364  ,\n",
       "       68218.82202142, 65982.88640693, 62848.16791847, 72822.96757151,\n",
       "       64167.70837523, 68617.03382227, 66793.66865497, 60937.87114159,\n",
       "       61100.85702954, 73468.69881848, 68879.22524156, 69201.43402872,\n",
       "       61265.81733447, 64076.68736361, 68249.86106564, 71354.36765112,\n",
       "       57870.30459115, 60425.75059222, 66684.53365661, 74538.92334295,\n",
       "       64274.8126488 , 67594.22041769, 66241.97732256, 63051.17390738,\n",
       "       60671.86348812, 72555.08573009, 65175.94687269, 59562.94775653,\n",
       "       68850.41039536, 62613.67235515, 68849.19428664, 60369.50504636,\n",
       "       69208.4366299 , 65497.47725702, 65093.97500472, 71732.05887642,\n",
       "       56852.70460638, 63170.68019984, 64569.11625288, 63823.57123602,\n",
       "       69963.66287029, 66739.2822958 , 64718.2470539 , 64329.844636  ,\n",
       "       67695.75223057, 61961.45950569, 68544.31968028, 63169.67105065,\n",
       "       61603.59204784, 65718.34503108])"
      ]
     },
     "execution_count": 38,
     "metadata": {},
     "output_type": "execute_result"
    }
   ],
   "source": [
    "y_pred"
   ]
  },
  {
   "cell_type": "markdown",
   "id": "b3c6c6a2",
   "metadata": {},
   "source": [
    "# Lasso Regression"
   ]
  },
  {
   "cell_type": "code",
   "execution_count": 39,
   "id": "4183a4e4",
   "metadata": {},
   "outputs": [
    {
     "name": "stdout",
     "output_type": "stream",
     "text": [
      "MSE is: 211090235.72981793\n",
      "r2 score is: 0.03161355030823332\n"
     ]
    }
   ],
   "source": [
    "from sklearn.linear_model import Lasso\n",
    "ls=Lasso()\n",
    "ls.fit(x_train,y_train)\n",
    "y_pred=ls.predict(x_test)\n",
    "print('MSE is:',mean_squared_error(y_test,y_pred))\n",
    "print('r2 score is:',r2_score(y_test,y_pred))"
   ]
  },
  {
   "cell_type": "code",
   "execution_count": 40,
   "id": "d2bf1bec",
   "metadata": {},
   "outputs": [
    {
     "data": {
      "text/plain": [
       "array([68501.74331033, 71670.93035927, 65203.87261639, 66029.07934156,\n",
       "       74463.16252646, 67424.82945609, 73110.17836157, 66695.49797263,\n",
       "       63784.40964466, 56253.36427049, 70118.71219687, 61425.21424766,\n",
       "       56242.70866383, 70523.94942753, 54529.20599748, 65855.7823682 ,\n",
       "       67970.79314324, 72523.65439676, 78737.01025344, 60854.52719251,\n",
       "       65507.64893227, 68708.30522966, 57004.83199083, 63833.5175883 ,\n",
       "       69524.04110322, 64518.5386897 , 68258.76704602, 64819.82417746,\n",
       "       68784.08415256, 69774.59218852, 68413.2712689 , 70538.66814143,\n",
       "       67448.7416029 , 64180.28905319, 68683.59395035, 63538.55845995,\n",
       "       70250.9456207 , 68285.68170157, 71363.42667723, 66358.86649664,\n",
       "       73309.90153144, 60827.65178396, 64737.19393742, 65568.54621854,\n",
       "       68208.94271437, 65990.34729052, 62852.68718239, 72813.2844658 ,\n",
       "       64177.67543846, 68617.60465781, 66787.6757664 , 60937.15601248,\n",
       "       61108.87426385, 73423.70989075, 68873.43841379, 69199.02049586,\n",
       "       61272.98016209, 64080.70970734, 68251.79575956, 71349.29806666,\n",
       "       57885.24127982, 60430.85839499, 66683.66491256, 74539.65810981,\n",
       "       64278.46466327, 67596.27681526, 66237.95939512, 63055.84514375,\n",
       "       60671.84032346, 72534.70337881, 65177.61375714, 59573.66064727,\n",
       "       68845.07482256, 62625.60440825, 68851.08498914, 60376.67667283,\n",
       "       69204.51831462, 65504.94821099, 65098.33903507, 71729.25415163,\n",
       "       56862.94816977, 63177.49375907, 64565.82206038, 63835.1572291 ,\n",
       "       69960.04772031, 66742.72300535, 64716.9305698 , 64322.61570876,\n",
       "       67697.54556946, 61969.92540721, 68534.77374864, 63170.82104571,\n",
       "       61616.56529989, 65717.69075242])"
      ]
     },
     "execution_count": 40,
     "metadata": {},
     "output_type": "execute_result"
    }
   ],
   "source": [
    "y_pred"
   ]
  },
  {
   "cell_type": "markdown",
   "id": "d0eb4216",
   "metadata": {},
   "source": [
    "# Decision Tree Regressor"
   ]
  },
  {
   "cell_type": "code",
   "execution_count": 41,
   "id": "34c25faa",
   "metadata": {},
   "outputs": [
    {
     "name": "stdout",
     "output_type": "stream",
     "text": [
      "MSE is: 176135687.56050533\n",
      "r2 score is: 0.19196919482788655\n"
     ]
    }
   ],
   "source": [
    "from sklearn.tree import DecisionTreeRegressor\n",
    "dtr=DecisionTreeRegressor()\n",
    "dtr.fit(x_train,y_train)\n",
    "y_pred=dtr.predict(x_test)\n",
    "print('MSE is:',mean_squared_error(y_test,y_pred))\n",
    "print('r2 score is:',r2_score(y_test,y_pred))"
   ]
  },
  {
   "cell_type": "code",
   "execution_count": 42,
   "id": "ee2da7f9",
   "metadata": {},
   "outputs": [
    {
     "data": {
      "text/plain": [
       "array([74312.  , 96837.75, 53366.  , 62385.  , 53366.  , 65902.  ,\n",
       "       57834.  , 64397.  , 96837.75, 64919.  , 96837.75, 57834.  ,\n",
       "       46664.  , 51777.  , 70507.  , 70468.  , 62506.  , 71860.  ,\n",
       "       96837.75, 54005.  , 56991.  , 64397.  , 68051.  , 63478.  ,\n",
       "       96837.75, 60627.  , 96837.75, 72202.  , 66441.  , 58062.  ,\n",
       "       96837.75, 60754.  , 59472.  , 54005.  , 72106.  , 56149.  ,\n",
       "       74326.  , 58062.  , 96837.75, 57834.  , 96837.75, 58275.  ,\n",
       "       56149.  , 56339.  , 93206.  , 52846.  , 61422.  , 57834.  ,\n",
       "       58370.  , 71860.  , 71776.  , 66593.  , 70131.  , 61422.  ,\n",
       "       56991.  , 64397.  , 61422.  , 61422.  , 71776.  , 71860.  ,\n",
       "       53492.  , 64971.  , 51044.  , 66593.  , 53564.  , 72106.  ,\n",
       "       71860.  , 83667.  , 58275.  , 93206.  , 83667.  , 96837.75,\n",
       "       72202.  , 65893.  , 47434.  , 61568.  , 60754.  , 62068.  ,\n",
       "       53018.  , 57815.  , 51908.  , 61242.  , 53366.  , 65714.  ,\n",
       "       53189.  , 70545.  , 96837.75, 66738.  , 68407.  , 45998.  ,\n",
       "       56149.  , 51505.  , 53492.  , 45115.  ])"
      ]
     },
     "execution_count": 42,
     "metadata": {},
     "output_type": "execute_result"
    }
   ],
   "source": [
    "y_pred"
   ]
  },
  {
   "cell_type": "code",
   "execution_count": 43,
   "id": "6af54be7",
   "metadata": {},
   "outputs": [
    {
     "data": {
      "text/plain": [
       "Department                49.857101\n",
       "PositionID                18.870553\n",
       "EngagementSurvey           8.134859\n",
       "EmpID                      7.357308\n",
       "Absences                   6.833021\n",
       "Zip                        3.554280\n",
       "RecruitmentSource          1.976896\n",
       "MarriedID                  1.237890\n",
       "EmpSatisfaction            0.959690\n",
       "Sex                        0.399912\n",
       "EmpStatusID                0.311616\n",
       "GenderID                   0.225851\n",
       "Termd                      0.147198\n",
       "PerformanceScore           0.074679\n",
       "EmploymentStatus           0.059144\n",
       "PerfScoreID                0.000000\n",
       "FromDiversityJobFairID     0.000000\n",
       "DeptID                     0.000000\n",
       "SpecialProjectsCount       0.000000\n",
       "DaysLateLast30             0.000000\n",
       "dtype: float64"
      ]
     },
     "execution_count": 43,
     "metadata": {},
     "output_type": "execute_result"
    }
   ],
   "source": [
    "pd.Series(dtr.feature_importances_,index=x.columns).sort_values(ascending=False)*100"
   ]
  },
  {
   "cell_type": "code",
   "execution_count": 44,
   "id": "2bf9595c",
   "metadata": {},
   "outputs": [
    {
     "data": {
      "text/html": [
       "<div>\n",
       "<style scoped>\n",
       "    .dataframe tbody tr th:only-of-type {\n",
       "        vertical-align: middle;\n",
       "    }\n",
       "\n",
       "    .dataframe tbody tr th {\n",
       "        vertical-align: top;\n",
       "    }\n",
       "\n",
       "    .dataframe thead th {\n",
       "        text-align: right;\n",
       "    }\n",
       "</style>\n",
       "<table border=\"1\" class=\"dataframe\">\n",
       "  <thead>\n",
       "    <tr style=\"text-align: right;\">\n",
       "      <th></th>\n",
       "      <th>EmpID</th>\n",
       "      <th>Salary</th>\n",
       "      <th>PositionID</th>\n",
       "      <th>Zip</th>\n",
       "      <th>Department</th>\n",
       "      <th>RecruitmentSource</th>\n",
       "      <th>EngagementSurvey</th>\n",
       "      <th>Absences</th>\n",
       "    </tr>\n",
       "  </thead>\n",
       "  <tbody>\n",
       "    <tr>\n",
       "      <th>0</th>\n",
       "      <td>10026</td>\n",
       "      <td>62506.00</td>\n",
       "      <td>19</td>\n",
       "      <td>1960.0</td>\n",
       "      <td>3</td>\n",
       "      <td>5</td>\n",
       "      <td>4.60</td>\n",
       "      <td>1</td>\n",
       "    </tr>\n",
       "    <tr>\n",
       "      <th>1</th>\n",
       "      <td>10084</td>\n",
       "      <td>96837.75</td>\n",
       "      <td>23</td>\n",
       "      <td>2148.0</td>\n",
       "      <td>2</td>\n",
       "      <td>4</td>\n",
       "      <td>4.96</td>\n",
       "      <td>17</td>\n",
       "    </tr>\n",
       "    <tr>\n",
       "      <th>2</th>\n",
       "      <td>10196</td>\n",
       "      <td>64955.00</td>\n",
       "      <td>20</td>\n",
       "      <td>1810.0</td>\n",
       "      <td>3</td>\n",
       "      <td>5</td>\n",
       "      <td>3.02</td>\n",
       "      <td>3</td>\n",
       "    </tr>\n",
       "    <tr>\n",
       "      <th>3</th>\n",
       "      <td>10088</td>\n",
       "      <td>64991.00</td>\n",
       "      <td>19</td>\n",
       "      <td>1886.0</td>\n",
       "      <td>3</td>\n",
       "      <td>4</td>\n",
       "      <td>4.84</td>\n",
       "      <td>15</td>\n",
       "    </tr>\n",
       "    <tr>\n",
       "      <th>4</th>\n",
       "      <td>10069</td>\n",
       "      <td>50825.00</td>\n",
       "      <td>19</td>\n",
       "      <td>2169.0</td>\n",
       "      <td>3</td>\n",
       "      <td>3</td>\n",
       "      <td>5.00</td>\n",
       "      <td>2</td>\n",
       "    </tr>\n",
       "  </tbody>\n",
       "</table>\n",
       "</div>"
      ],
      "text/plain": [
       "   EmpID    Salary  PositionID     Zip  Department  RecruitmentSource  \\\n",
       "0  10026  62506.00          19  1960.0           3                  5   \n",
       "1  10084  96837.75          23  2148.0           2                  4   \n",
       "2  10196  64955.00          20  1810.0           3                  5   \n",
       "3  10088  64991.00          19  1886.0           3                  4   \n",
       "4  10069  50825.00          19  2169.0           3                  3   \n",
       "\n",
       "   EngagementSurvey  Absences  \n",
       "0              4.60         1  \n",
       "1              4.96        17  \n",
       "2              3.02         3  \n",
       "3              4.84        15  \n",
       "4              5.00         2  "
      ]
     },
     "execution_count": 44,
     "metadata": {},
     "output_type": "execute_result"
    }
   ],
   "source": [
    "new_data=new_df.copy()\n",
    "#Dropping least important columns\n",
    "new_data=new_data.drop(['DaysLateLast30','SpecialProjectsCount','DeptID','FromDiversityJobFairID','PerfScoreID','Termd','EmploymentStatus','PerformanceScore','GenderID','Sex','MarriedID','EmpSatisfaction','EmpStatusID'],axis=1)\n",
    "new_data.head()"
   ]
  },
  {
   "cell_type": "code",
   "execution_count": 45,
   "id": "8cda6c80",
   "metadata": {},
   "outputs": [
    {
     "data": {
      "text/plain": [
       "(311, 8)"
      ]
     },
     "execution_count": 45,
     "metadata": {},
     "output_type": "execute_result"
    }
   ],
   "source": [
    "new_data.shape"
   ]
  },
  {
   "cell_type": "code",
   "execution_count": 46,
   "id": "b10318bd",
   "metadata": {},
   "outputs": [
    {
     "data": {
      "text/html": [
       "<div>\n",
       "<style scoped>\n",
       "    .dataframe tbody tr th:only-of-type {\n",
       "        vertical-align: middle;\n",
       "    }\n",
       "\n",
       "    .dataframe tbody tr th {\n",
       "        vertical-align: top;\n",
       "    }\n",
       "\n",
       "    .dataframe thead th {\n",
       "        text-align: right;\n",
       "    }\n",
       "</style>\n",
       "<table border=\"1\" class=\"dataframe\">\n",
       "  <thead>\n",
       "    <tr style=\"text-align: right;\">\n",
       "      <th></th>\n",
       "      <th>EmpID</th>\n",
       "      <th>PositionID</th>\n",
       "      <th>Zip</th>\n",
       "      <th>Department</th>\n",
       "      <th>RecruitmentSource</th>\n",
       "      <th>EngagementSurvey</th>\n",
       "      <th>Absences</th>\n",
       "    </tr>\n",
       "  </thead>\n",
       "  <tbody>\n",
       "    <tr>\n",
       "      <th>0</th>\n",
       "      <td>10026</td>\n",
       "      <td>19</td>\n",
       "      <td>1960.0</td>\n",
       "      <td>3</td>\n",
       "      <td>5</td>\n",
       "      <td>4.60</td>\n",
       "      <td>1</td>\n",
       "    </tr>\n",
       "    <tr>\n",
       "      <th>1</th>\n",
       "      <td>10084</td>\n",
       "      <td>23</td>\n",
       "      <td>2148.0</td>\n",
       "      <td>2</td>\n",
       "      <td>4</td>\n",
       "      <td>4.96</td>\n",
       "      <td>17</td>\n",
       "    </tr>\n",
       "    <tr>\n",
       "      <th>2</th>\n",
       "      <td>10196</td>\n",
       "      <td>20</td>\n",
       "      <td>1810.0</td>\n",
       "      <td>3</td>\n",
       "      <td>5</td>\n",
       "      <td>3.02</td>\n",
       "      <td>3</td>\n",
       "    </tr>\n",
       "    <tr>\n",
       "      <th>3</th>\n",
       "      <td>10088</td>\n",
       "      <td>19</td>\n",
       "      <td>1886.0</td>\n",
       "      <td>3</td>\n",
       "      <td>4</td>\n",
       "      <td>4.84</td>\n",
       "      <td>15</td>\n",
       "    </tr>\n",
       "    <tr>\n",
       "      <th>4</th>\n",
       "      <td>10069</td>\n",
       "      <td>19</td>\n",
       "      <td>2169.0</td>\n",
       "      <td>3</td>\n",
       "      <td>3</td>\n",
       "      <td>5.00</td>\n",
       "      <td>2</td>\n",
       "    </tr>\n",
       "  </tbody>\n",
       "</table>\n",
       "</div>"
      ],
      "text/plain": [
       "   EmpID  PositionID     Zip  Department  RecruitmentSource  EngagementSurvey  \\\n",
       "0  10026          19  1960.0           3                  5              4.60   \n",
       "1  10084          23  2148.0           2                  4              4.96   \n",
       "2  10196          20  1810.0           3                  5              3.02   \n",
       "3  10088          19  1886.0           3                  4              4.84   \n",
       "4  10069          19  2169.0           3                  3              5.00   \n",
       "\n",
       "   Absences  \n",
       "0         1  \n",
       "1        17  \n",
       "2         3  \n",
       "3        15  \n",
       "4         2  "
      ]
     },
     "execution_count": 46,
     "metadata": {},
     "output_type": "execute_result"
    }
   ],
   "source": [
    "new_x=new_data.drop(['Salary'],axis=1)\n",
    "new_y=new_data['Salary']\n",
    "new_x.head()"
   ]
  },
  {
   "cell_type": "code",
   "execution_count": 47,
   "id": "ddf88cf4",
   "metadata": {},
   "outputs": [
    {
     "data": {
      "text/plain": [
       "0    62506.00\n",
       "1    96837.75\n",
       "2    64955.00\n",
       "3    64991.00\n",
       "4    50825.00\n",
       "Name: Salary, dtype: float64"
      ]
     },
     "execution_count": 47,
     "metadata": {},
     "output_type": "execute_result"
    }
   ],
   "source": [
    "new_y.head()"
   ]
  },
  {
   "cell_type": "code",
   "execution_count": 48,
   "id": "9ac89714",
   "metadata": {},
   "outputs": [],
   "source": [
    "new_x_train, new_x_test,new_y_train,new_y_test = train_test_split(new_x,new_y,test_size = 0.3,random_state = 42)"
   ]
  },
  {
   "cell_type": "code",
   "execution_count": 49,
   "id": "b2adc0fb",
   "metadata": {},
   "outputs": [],
   "source": [
    "min_max=preprocessing.MinMaxScaler()\n",
    "new_x_train=min_max.fit_transform(new_x_train)\n",
    "new_x_test=min_max.transform(new_x_test)"
   ]
  },
  {
   "cell_type": "code",
   "execution_count": 50,
   "id": "27eb137d",
   "metadata": {},
   "outputs": [
    {
     "name": "stdout",
     "output_type": "stream",
     "text": [
      "MSE is: 170458364.56050533\n",
      "r2 score is: 0.21801418286210472\n"
     ]
    }
   ],
   "source": [
    "dtr=DecisionTreeRegressor()\n",
    "dtr.fit(new_x_train,new_y_train)\n",
    "new_y_pred=dtr.predict(new_x_test)\n",
    "print('MSE is:',mean_squared_error(new_y_test,new_y_pred))\n",
    "print('r2 score is:',r2_score(new_y_test,new_y_pred))"
   ]
  },
  {
   "cell_type": "code",
   "execution_count": 51,
   "id": "491378b9",
   "metadata": {},
   "outputs": [],
   "source": [
    "from sklearn.metrics import mean_absolute_error"
   ]
  },
  {
   "cell_type": "code",
   "execution_count": 52,
   "id": "abc5f1c0",
   "metadata": {},
   "outputs": [
    {
     "name": "stdout",
     "output_type": "stream",
     "text": [
      "r2 score is: 0.5300428514059902\n",
      "MAE is: 7722.293723404256\n"
     ]
    }
   ],
   "source": [
    "from sklearn.ensemble import RandomForestRegressor\n",
    "rfr=RandomForestRegressor()\n",
    "rfr.fit(new_x_train,new_y_train)\n",
    "new_y_pred=rfr.predict(new_x_test)\n",
    "print('r2 score is:',r2_score(new_y_test,new_y_pred))\n",
    "print('MAE is:' ,mean_absolute_error(new_y_test,new_y_pred))"
   ]
  },
  {
   "cell_type": "code",
   "execution_count": 53,
   "id": "47e6ce3f",
   "metadata": {},
   "outputs": [
    {
     "name": "stdout",
     "output_type": "stream",
     "text": [
      "r2 score is: 0.5720948689018683\n",
      "MAE is: 7421.9397690664055\n"
     ]
    }
   ],
   "source": [
    "from sklearn.ensemble import RandomForestRegressor\n",
    "rfr=RandomForestRegressor(n_estimators=200, min_samples_split=5, min_samples_leaf=2, max_features='auto', bootstrap=True, n_jobs=-1, random_state=42)\n",
    "rfr.fit(new_x_train,new_y_train)\n",
    "new_y_pred=rfr.predict(new_x_test)\n",
    "print('r2 score is:',r2_score(new_y_test,new_y_pred))\n",
    "print('MAE is:' ,mean_absolute_error(new_y_test,new_y_pred))"
   ]
  },
  {
   "cell_type": "code",
   "execution_count": 54,
   "id": "2cad58ea",
   "metadata": {},
   "outputs": [
    {
     "data": {
      "text/plain": [
       "array([74367.00640476, 91994.92482544, 68520.05913451, 64000.91572114,\n",
       "       79820.38756611, 62768.15131151, 54286.62845743, 65656.65095725,\n",
       "       87530.037313  , 54952.36387302, 88694.31908333, 57334.72327912,\n",
       "       53532.63489683, 90146.46995982, 64848.04081151, 67291.29026687,\n",
       "       54458.03374573, 67882.00969643, 77177.3318787 , 57076.7555193 ,\n",
       "       56099.79471717, 67409.25015485, 70901.3622528 , 65552.14032035,\n",
       "       82317.9432587 , 55928.9581075 , 87516.33293552, 65884.40244733,\n",
       "       62399.12549405, 51613.23655267, 94833.39932265, 54593.76722763,\n",
       "       56501.36108929, 53910.45566101, 65321.51121717, 54899.72854365,\n",
       "       67828.42683929, 53303.83411117, 93070.2172381 , 54565.99428571,\n",
       "       94014.03460042, 62713.35326479, 54503.46472114, 52401.69811418,\n",
       "       87738.47611571, 54454.62375559, 59586.94954121, 55700.88851894,\n",
       "       65547.69077381, 69292.99598413, 65954.64541667, 84335.79297754,\n",
       "       68241.65145725, 55763.32037544, 55173.02240278, 67251.2701241 ,\n",
       "       57092.60837039, 58599.557795  , 64596.6660496 , 69349.95445734,\n",
       "       53857.0470175 , 66195.44502074, 54038.93718957, 85070.73421032,\n",
       "       54901.00087013, 65764.38155952, 69766.23020446, 77006.70786657,\n",
       "       63290.7117132 , 89594.25126339, 76331.15651294, 89389.44464164,\n",
       "       66981.84079852, 63810.62890873, 54195.24812019, 63648.75026975,\n",
       "       53399.18606151, 55466.02710516, 56924.1645377 , 57502.57178571,\n",
       "       57752.9409614 , 54248.27428968, 69317.11688997, 75685.92809722,\n",
       "       53482.62439683, 67600.02196537, 86965.7470836 , 65991.96946429,\n",
       "       64726.87624405, 51768.09129744, 55223.69511995, 55144.68708393,\n",
       "       53689.78135714, 53235.78766582])"
      ]
     },
     "execution_count": 54,
     "metadata": {},
     "output_type": "execute_result"
    }
   ],
   "source": [
    "new_y_pred"
   ]
  },
  {
   "cell_type": "code",
   "execution_count": 55,
   "id": "a291f3ca",
   "metadata": {},
   "outputs": [
    {
     "name": "stdout",
     "output_type": "stream",
     "text": [
      "r2 score is: 0.5197451110240143\n"
     ]
    }
   ],
   "source": [
    "from sklearn.ensemble import GradientBoostingRegressor\n",
    "gbr=GradientBoostingRegressor()\n",
    "gbr.fit(new_x_train,new_y_train)\n",
    "new_y_pred=gbr.predict(new_x_test)\n",
    "print('r2 score is:',r2_score(new_y_test,new_y_pred))"
   ]
  },
  {
   "cell_type": "code",
   "execution_count": 56,
   "id": "fd53312e",
   "metadata": {},
   "outputs": [
    {
     "data": {
      "text/plain": [
       "array([73477.51436013, 91650.03567533, 71785.75966451, 75759.48461943,\n",
       "       71002.05631492, 63820.5591291 , 56926.1576422 , 68174.82377662,\n",
       "       89971.56970518, 53635.41672028, 90210.09511961, 59726.17544158,\n",
       "       56503.27730551, 70013.66674458, 65507.40701882, 66936.50924106,\n",
       "       56205.96138289, 67342.42886599, 83134.69546306, 56642.79805563,\n",
       "       53938.70729122, 68278.90069541, 75942.77290609, 69741.25878417,\n",
       "       82747.63918694, 55793.96324379, 89589.68771408, 65686.58938084,\n",
       "       64212.71863789, 54121.15379394, 91671.01514543, 57468.35401617,\n",
       "       58742.86694561, 56392.75414437, 64725.49786604, 56368.37702807,\n",
       "       71265.88719393, 57205.87808658, 94218.94757366, 55776.42840177,\n",
       "       93264.592879  , 63217.62122582, 53896.3200765 , 55345.64233668,\n",
       "       86856.83809662, 54146.00364888, 59875.51487096, 57178.79032641,\n",
       "       71265.88719393, 58930.25821244, 66352.22733011, 91544.21344612,\n",
       "       66016.97816854, 58452.74333231, 54524.22767666, 65763.19898213,\n",
       "       57818.15116134, 59405.82737145, 64966.28678933, 67477.82378208,\n",
       "       55089.75569842, 67288.28808886, 53751.92286058, 85866.69110066,\n",
       "       55781.47110411, 64555.46382578, 64472.64432438, 69924.96053067,\n",
       "       69533.73961832, 89919.3212393 , 69106.49810855, 88080.72451883,\n",
       "       65913.10790277, 62997.27390824, 54649.23737778, 59962.73087115,\n",
       "       53796.96656488, 56165.98295266, 55552.1127824 , 63953.06669536,\n",
       "       55161.22658374, 55725.02526774, 71521.90008464, 82944.43342855,\n",
       "       55903.27319307, 70165.09896331, 81736.69416724, 65997.91768295,\n",
       "       61411.71282469, 52333.39523879, 58869.48596917, 54488.56598151,\n",
       "       55102.87591701, 57420.38886217])"
      ]
     },
     "execution_count": 56,
     "metadata": {},
     "output_type": "execute_result"
    }
   ],
   "source": [
    "new_y_pred"
   ]
  },
  {
   "cell_type": "code",
   "execution_count": 57,
   "id": "8f3841f6",
   "metadata": {},
   "outputs": [
    {
     "name": "stdout",
     "output_type": "stream",
     "text": [
      "r2 score is: 0.026247858038824123\n"
     ]
    }
   ],
   "source": [
    "from sklearn.linear_model import Ridge\n",
    "rd=Ridge(alpha=1.0)\n",
    "rd.fit(new_x_train,new_y_train)\n",
    "new_y_pred=rd.predict(new_x_test)\n",
    "print('r2 score is:',r2_score(new_y_test,new_y_pred))"
   ]
  },
  {
   "cell_type": "code",
   "execution_count": 58,
   "id": "0e3886ff",
   "metadata": {},
   "outputs": [],
   "source": [
    "reg_data = {'Regression Model':  ['Linear Regression','Lasso Regression','Decision Tree Regressor ','RandomForest Regressor','GradientBoosting Regressor','Ridge Regressor'],\n",
    "        \n",
    "        'r2 score':    [0.032,0.032,0.225,0.572,0.519,0.026],           \n",
    "        }\n",
    "        \n",
    "reg_comp = pd.DataFrame (reg_data, columns = ['Regression Model','r2 score',])"
   ]
  },
  {
   "cell_type": "code",
   "execution_count": 59,
   "id": "57eca09a",
   "metadata": {},
   "outputs": [
    {
     "data": {
      "text/html": [
       "<div>\n",
       "<style scoped>\n",
       "    .dataframe tbody tr th:only-of-type {\n",
       "        vertical-align: middle;\n",
       "    }\n",
       "\n",
       "    .dataframe tbody tr th {\n",
       "        vertical-align: top;\n",
       "    }\n",
       "\n",
       "    .dataframe thead th {\n",
       "        text-align: right;\n",
       "    }\n",
       "</style>\n",
       "<table border=\"1\" class=\"dataframe\">\n",
       "  <thead>\n",
       "    <tr style=\"text-align: right;\">\n",
       "      <th></th>\n",
       "      <th>Regression Model</th>\n",
       "      <th>r2 score</th>\n",
       "    </tr>\n",
       "  </thead>\n",
       "  <tbody>\n",
       "    <tr>\n",
       "      <th>0</th>\n",
       "      <td>Linear Regression</td>\n",
       "      <td>0.032</td>\n",
       "    </tr>\n",
       "    <tr>\n",
       "      <th>1</th>\n",
       "      <td>Lasso Regression</td>\n",
       "      <td>0.032</td>\n",
       "    </tr>\n",
       "    <tr>\n",
       "      <th>2</th>\n",
       "      <td>Decision Tree Regressor</td>\n",
       "      <td>0.225</td>\n",
       "    </tr>\n",
       "    <tr>\n",
       "      <th>3</th>\n",
       "      <td>RandomForest Regressor</td>\n",
       "      <td>0.572</td>\n",
       "    </tr>\n",
       "    <tr>\n",
       "      <th>4</th>\n",
       "      <td>GradientBoosting Regressor</td>\n",
       "      <td>0.519</td>\n",
       "    </tr>\n",
       "    <tr>\n",
       "      <th>5</th>\n",
       "      <td>Ridge Regressor</td>\n",
       "      <td>0.026</td>\n",
       "    </tr>\n",
       "  </tbody>\n",
       "</table>\n",
       "</div>"
      ],
      "text/plain": [
       "             Regression Model  r2 score\n",
       "0           Linear Regression     0.032\n",
       "1            Lasso Regression     0.032\n",
       "2    Decision Tree Regressor      0.225\n",
       "3      RandomForest Regressor     0.572\n",
       "4  GradientBoosting Regressor     0.519\n",
       "5             Ridge Regressor     0.026"
      ]
     },
     "execution_count": 59,
     "metadata": {},
     "output_type": "execute_result"
    }
   ],
   "source": [
    "reg_comp"
   ]
  },
  {
   "cell_type": "code",
   "execution_count": 60,
   "id": "97763771",
   "metadata": {},
   "outputs": [
    {
     "data": {
      "text/html": [
       "<div>\n",
       "<style scoped>\n",
       "    .dataframe tbody tr th:only-of-type {\n",
       "        vertical-align: middle;\n",
       "    }\n",
       "\n",
       "    .dataframe tbody tr th {\n",
       "        vertical-align: top;\n",
       "    }\n",
       "\n",
       "    .dataframe thead th {\n",
       "        text-align: right;\n",
       "    }\n",
       "</style>\n",
       "<table border=\"1\" class=\"dataframe\">\n",
       "  <thead>\n",
       "    <tr style=\"text-align: right;\">\n",
       "      <th></th>\n",
       "      <th>EmpID</th>\n",
       "      <th>Salary</th>\n",
       "    </tr>\n",
       "  </thead>\n",
       "  <tbody>\n",
       "    <tr>\n",
       "      <th>0</th>\n",
       "      <td>10026</td>\n",
       "      <td>62506.00</td>\n",
       "    </tr>\n",
       "    <tr>\n",
       "      <th>1</th>\n",
       "      <td>10084</td>\n",
       "      <td>96837.75</td>\n",
       "    </tr>\n",
       "    <tr>\n",
       "      <th>2</th>\n",
       "      <td>10196</td>\n",
       "      <td>64955.00</td>\n",
       "    </tr>\n",
       "    <tr>\n",
       "      <th>3</th>\n",
       "      <td>10088</td>\n",
       "      <td>64991.00</td>\n",
       "    </tr>\n",
       "    <tr>\n",
       "      <th>4</th>\n",
       "      <td>10069</td>\n",
       "      <td>50825.00</td>\n",
       "    </tr>\n",
       "  </tbody>\n",
       "</table>\n",
       "</div>"
      ],
      "text/plain": [
       "   EmpID    Salary\n",
       "0  10026  62506.00\n",
       "1  10084  96837.75\n",
       "2  10196  64955.00\n",
       "3  10088  64991.00\n",
       "4  10069  50825.00"
      ]
     },
     "execution_count": 60,
     "metadata": {},
     "output_type": "execute_result"
    }
   ],
   "source": [
    "dataset=new_data[['EmpID','Salary']]\n",
    "dataset.head()"
   ]
  },
  {
   "cell_type": "code",
   "execution_count": 61,
   "id": "7a0938af",
   "metadata": {},
   "outputs": [],
   "source": [
    "X=dataset['EmpID']\n",
    "Y=dataset['Salary']"
   ]
  },
  {
   "cell_type": "code",
   "execution_count": 62,
   "id": "ea1e581e",
   "metadata": {},
   "outputs": [],
   "source": [
    "from sklearn.model_selection import train_test_split\n",
    "X_train, X_test, Y_train, Y_test = train_test_split(X, Y, test_size=1/3, random_state=42)"
   ]
  },
  {
   "cell_type": "code",
   "execution_count": 63,
   "id": "30b835b0",
   "metadata": {},
   "outputs": [
    {
     "data": {
      "text/plain": [
       "0    10026\n",
       "1    10084\n",
       "2    10196\n",
       "3    10088\n",
       "4    10069\n",
       "Name: EmpID, dtype: int64"
      ]
     },
     "execution_count": 63,
     "metadata": {},
     "output_type": "execute_result"
    }
   ],
   "source": [
    "X.head()"
   ]
  },
  {
   "cell_type": "code",
   "execution_count": 64,
   "id": "eadabf00",
   "metadata": {},
   "outputs": [
    {
     "data": {
      "text/plain": [
       "array([[10026],\n",
       "       [10084],\n",
       "       [10196],\n",
       "       [10088],\n",
       "       [10069],\n",
       "       [10002],\n",
       "       [10194],\n",
       "       [10062],\n",
       "       [10114],\n",
       "       [10250],\n",
       "       [10252],\n",
       "       [10242],\n",
       "       [10012],\n",
       "       [10265],\n",
       "       [10066],\n",
       "       [10061],\n",
       "       [10023],\n",
       "       [10055],\n",
       "       [10245],\n",
       "       [10277],\n",
       "       [10046],\n",
       "       [10226],\n",
       "       [10003],\n",
       "       [10294],\n",
       "       [10267],\n",
       "       [10199],\n",
       "       [10081],\n",
       "       [10175],\n",
       "       [10177],\n",
       "       [10238],\n",
       "       [10184],\n",
       "       [10203],\n",
       "       [10188],\n",
       "       [10107],\n",
       "       [10181],\n",
       "       [10150],\n",
       "       [10001],\n",
       "       [10085],\n",
       "       [10115],\n",
       "       [10082],\n",
       "       [10040],\n",
       "       [10067],\n",
       "       [10108],\n",
       "       [10210],\n",
       "       [10154],\n",
       "       [10200],\n",
       "       [10240],\n",
       "       [10168],\n",
       "       [10220],\n",
       "       [10275],\n",
       "       [10269],\n",
       "       [10029],\n",
       "       [10261],\n",
       "       [10292],\n",
       "       [10282],\n",
       "       [10019],\n",
       "       [10094],\n",
       "       [10193],\n",
       "       [10132],\n",
       "       [10083],\n",
       "       [10099],\n",
       "       [10212],\n",
       "       [10056],\n",
       "       [10143],\n",
       "       [10311],\n",
       "       [10070],\n",
       "       [10155],\n",
       "       [10306],\n",
       "       [10100],\n",
       "       [10310],\n",
       "       [10197],\n",
       "       [10276],\n",
       "       [10304],\n",
       "       [10284],\n",
       "       [10207],\n",
       "       [10133],\n",
       "       [10028],\n",
       "       [10006],\n",
       "       [10105],\n",
       "       [10211],\n",
       "       [10064],\n",
       "       [10247],\n",
       "       [10235],\n",
       "       [10299],\n",
       "       [10280],\n",
       "       [10296],\n",
       "       [10290],\n",
       "       [10263],\n",
       "       [10136],\n",
       "       [10189],\n",
       "       [10308],\n",
       "       [10309],\n",
       "       [10049],\n",
       "       [10093],\n",
       "       [10163],\n",
       "       [10305],\n",
       "       [10015],\n",
       "       [10080],\n",
       "       [10258],\n",
       "       [10273],\n",
       "       [10111],\n",
       "       [10257],\n",
       "       [10159],\n",
       "       [10122],\n",
       "       [10142],\n",
       "       [10283],\n",
       "       [10018],\n",
       "       [10255],\n",
       "       [10246],\n",
       "       [10228],\n",
       "       [10243],\n",
       "       [10031],\n",
       "       [10300],\n",
       "       [10101],\n",
       "       [10237],\n",
       "       [10051],\n",
       "       [10218],\n",
       "       [10256],\n",
       "       [10098],\n",
       "       [10059],\n",
       "       [10234],\n",
       "       [10109],\n",
       "       [10125],\n",
       "       [10074],\n",
       "       [10097],\n",
       "       [10007],\n",
       "       [10129],\n",
       "       [10075],\n",
       "       [10167],\n",
       "       [10195],\n",
       "       [10112],\n",
       "       [10272],\n",
       "       [10182],\n",
       "       [10248],\n",
       "       [10201],\n",
       "       [10214],\n",
       "       [10160],\n",
       "       [10289],\n",
       "       [10139],\n",
       "       [10227],\n",
       "       [10236],\n",
       "       [10009],\n",
       "       [10060],\n",
       "       [10034],\n",
       "       [10156],\n",
       "       [10036],\n",
       "       [10138],\n",
       "       [10244],\n",
       "       [10192],\n",
       "       [10231],\n",
       "       [10089],\n",
       "       [10166],\n",
       "       [10170],\n",
       "       [10208],\n",
       "       [10176],\n",
       "       [10165],\n",
       "       [10113],\n",
       "       [10092],\n",
       "       [10106],\n",
       "       [10052],\n",
       "       [10038],\n",
       "       [10249],\n",
       "       [10232],\n",
       "       [10087],\n",
       "       [10134],\n",
       "       [10251],\n",
       "       [10103],\n",
       "       [10017],\n",
       "       [10186],\n",
       "       [10137],\n",
       "       [10008],\n",
       "       [10096],\n",
       "       [10035],\n",
       "       [10057],\n",
       "       [10004],\n",
       "       [10191],\n",
       "       [10219],\n",
       "       [10077],\n",
       "       [10073],\n",
       "       [10279],\n",
       "       [10110],\n",
       "       [10053],\n",
       "       [10076],\n",
       "       [10145],\n",
       "       [10202],\n",
       "       [10128],\n",
       "       [10068],\n",
       "       [10116],\n",
       "       [10298],\n",
       "       [10213],\n",
       "       [10288],\n",
       "       [10025],\n",
       "       [10223],\n",
       "       [10151],\n",
       "       [10254],\n",
       "       [10120],\n",
       "       [10216],\n",
       "       [10079],\n",
       "       [10215],\n",
       "       [10185],\n",
       "       [10063],\n",
       "       [10037],\n",
       "       [10042],\n",
       "       [10206],\n",
       "       [10104],\n",
       "       [10303],\n",
       "       [10078],\n",
       "       [10121],\n",
       "       [10021],\n",
       "       [10281],\n",
       "       [10041],\n",
       "       [10148],\n",
       "       [10005],\n",
       "       [10259],\n",
       "       [10286],\n",
       "       [10297],\n",
       "       [10171],\n",
       "       [10032],\n",
       "       [10130],\n",
       "       [10217],\n",
       "       [10016],\n",
       "       [10050],\n",
       "       [10164],\n",
       "       [10124],\n",
       "       [10187],\n",
       "       [10225],\n",
       "       [10262],\n",
       "       [10131],\n",
       "       [10239],\n",
       "       [10152],\n",
       "       [10140],\n",
       "       [10058],\n",
       "       [10011],\n",
       "       [10230],\n",
       "       [10224],\n",
       "       [10047],\n",
       "       [10285],\n",
       "       [10020],\n",
       "       [10162],\n",
       "       [10149],\n",
       "       [10086],\n",
       "       [10054],\n",
       "       [10065],\n",
       "       [10198],\n",
       "       [10222],\n",
       "       [10126],\n",
       "       [10295],\n",
       "       [10260],\n",
       "       [10233],\n",
       "       [10229],\n",
       "       [10169],\n",
       "       [10071],\n",
       "       [10179],\n",
       "       [10091],\n",
       "       [10178],\n",
       "       [10039],\n",
       "       [10095],\n",
       "       [10027],\n",
       "       [10291],\n",
       "       [10153],\n",
       "       [10157],\n",
       "       [10119],\n",
       "       [10180],\n",
       "       [10302],\n",
       "       [10090],\n",
       "       [10030],\n",
       "       [10278],\n",
       "       [10307],\n",
       "       [10147],\n",
       "       [10266],\n",
       "       [10241],\n",
       "       [10158],\n",
       "       [10117],\n",
       "       [10209],\n",
       "       [10024],\n",
       "       [10173],\n",
       "       [10221],\n",
       "       [10146],\n",
       "       [10161],\n",
       "       [10141],\n",
       "       [10268],\n",
       "       [10123],\n",
       "       [10013],\n",
       "       [10287],\n",
       "       [10044],\n",
       "       [10102],\n",
       "       [10270],\n",
       "       [10045],\n",
       "       [10205],\n",
       "       [10014],\n",
       "       [10144],\n",
       "       [10253],\n",
       "       [10118],\n",
       "       [10022],\n",
       "       [10183],\n",
       "       [10190],\n",
       "       [10274],\n",
       "       [10293],\n",
       "       [10172],\n",
       "       [10127],\n",
       "       [10072],\n",
       "       [10048],\n",
       "       [10204],\n",
       "       [10264],\n",
       "       [10033],\n",
       "       [10174],\n",
       "       [10135],\n",
       "       [10301],\n",
       "       [10010],\n",
       "       [10043],\n",
       "       [10271]], dtype=int64)"
      ]
     },
     "execution_count": 64,
     "metadata": {},
     "output_type": "execute_result"
    }
   ],
   "source": [
    "X.values.reshape(-1,1)"
   ]
  },
  {
   "cell_type": "code",
   "execution_count": 65,
   "id": "32983461",
   "metadata": {},
   "outputs": [
    {
     "data": {
      "text/plain": [
       "array([[62506.  ],\n",
       "       [96837.75],\n",
       "       [64955.  ],\n",
       "       [64991.  ],\n",
       "       [50825.  ],\n",
       "       [57568.  ],\n",
       "       [95660.  ],\n",
       "       [59365.  ],\n",
       "       [47837.  ],\n",
       "       [50178.  ],\n",
       "       [54670.  ],\n",
       "       [47211.  ],\n",
       "       [92328.  ],\n",
       "       [58709.  ],\n",
       "       [52505.  ],\n",
       "       [57834.  ],\n",
       "       [70131.  ],\n",
       "       [59026.  ],\n",
       "       [96837.75],\n",
       "       [53250.  ],\n",
       "       [51044.  ],\n",
       "       [64919.  ],\n",
       "       [62910.  ],\n",
       "       [66441.  ],\n",
       "       [57815.  ],\n",
       "       [96837.75],\n",
       "       [96837.75],\n",
       "       [74312.  ],\n",
       "       [53492.  ],\n",
       "       [63000.  ],\n",
       "       [65288.  ],\n",
       "       [64375.  ],\n",
       "       [74326.  ],\n",
       "       [63763.  ],\n",
       "       [62162.  ],\n",
       "       [77692.  ],\n",
       "       [72640.  ],\n",
       "       [93396.  ],\n",
       "       [52846.  ],\n",
       "       [96837.75],\n",
       "       [71860.  ],\n",
       "       [61656.  ],\n",
       "       [96837.75],\n",
       "       [54237.  ],\n",
       "       [60380.  ],\n",
       "       [66808.  ],\n",
       "       [64786.  ],\n",
       "       [64816.  ],\n",
       "       [68678.  ],\n",
       "       [64066.  ],\n",
       "       [59369.  ],\n",
       "       [50373.  ],\n",
       "       [63108.  ],\n",
       "       [59144.  ],\n",
       "       [68051.  ],\n",
       "       [96837.75],\n",
       "       [63381.  ],\n",
       "       [83552.  ],\n",
       "       [56149.  ],\n",
       "       [92329.  ],\n",
       "       [65729.  ],\n",
       "       [85028.  ],\n",
       "       [57583.  ],\n",
       "       [56294.  ],\n",
       "       [56991.  ],\n",
       "       [55722.  ],\n",
       "       [96837.75],\n",
       "       [61568.  ],\n",
       "       [58275.  ],\n",
       "       [53189.  ],\n",
       "       [96820.  ],\n",
       "       [51259.  ],\n",
       "       [59231.  ],\n",
       "       [61584.  ],\n",
       "       [46335.  ],\n",
       "       [70621.  ],\n",
       "       [96837.75],\n",
       "       [74241.  ],\n",
       "       [75188.  ],\n",
       "       [62514.  ],\n",
       "       [60070.  ],\n",
       "       [48888.  ],\n",
       "       [54285.  ],\n",
       "       [56847.  ],\n",
       "       [60340.  ],\n",
       "       [59124.  ],\n",
       "       [96837.75],\n",
       "       [71776.  ],\n",
       "       [65902.  ],\n",
       "       [57748.  ],\n",
       "       [64057.  ],\n",
       "       [53366.  ],\n",
       "       [58530.  ],\n",
       "       [72609.  ],\n",
       "       [55965.  ],\n",
       "       [70187.  ],\n",
       "       [96837.75],\n",
       "       [96837.75],\n",
       "       [67251.  ],\n",
       "       [65707.  ],\n",
       "       [52249.  ],\n",
       "       [53171.  ],\n",
       "       [51337.  ],\n",
       "       [51505.  ],\n",
       "       [59370.  ],\n",
       "       [54933.  ],\n",
       "       [57815.  ],\n",
       "       [61555.  ],\n",
       "       [96837.75],\n",
       "       [74679.  ],\n",
       "       [53018.  ],\n",
       "       [59892.  ],\n",
       "       [68898.  ],\n",
       "       [61242.  ],\n",
       "       [66825.  ],\n",
       "       [48285.  ],\n",
       "       [66149.  ],\n",
       "       [49256.  ],\n",
       "       [62957.  ],\n",
       "       [63813.  ],\n",
       "       [96837.75],\n",
       "       [71707.  ],\n",
       "       [54828.  ],\n",
       "       [64246.  ],\n",
       "       [52177.  ],\n",
       "       [62065.  ],\n",
       "       [46998.  ],\n",
       "       [68099.  ],\n",
       "       [70545.  ],\n",
       "       [63478.  ],\n",
       "       [96837.75],\n",
       "       [96837.75],\n",
       "       [49920.  ],\n",
       "       [55425.  ],\n",
       "       [69340.  ],\n",
       "       [64995.  ],\n",
       "       [68182.  ],\n",
       "       [83082.  ],\n",
       "       [51908.  ],\n",
       "       [61242.  ],\n",
       "       [45069.  ],\n",
       "       [60724.  ],\n",
       "       [60436.  ],\n",
       "       [46837.  ],\n",
       "       [96837.75],\n",
       "       [63322.  ],\n",
       "       [61154.  ],\n",
       "       [68999.  ],\n",
       "       [50482.  ],\n",
       "       [65310.  ],\n",
       "       [96837.75],\n",
       "       [54005.  ],\n",
       "       [45433.  ],\n",
       "       [46654.  ],\n",
       "       [63973.  ],\n",
       "       [71339.  ],\n",
       "       [93206.  ],\n",
       "       [82758.  ],\n",
       "       [66074.  ],\n",
       "       [46120.  ],\n",
       "       [64520.  ],\n",
       "       [61962.  ],\n",
       "       [81584.  ],\n",
       "       [63676.  ],\n",
       "       [93046.  ],\n",
       "       [64738.  ],\n",
       "       [70468.  ],\n",
       "       [77915.  ],\n",
       "       [52624.  ],\n",
       "       [63450.  ],\n",
       "       [51777.  ],\n",
       "       [67237.  ],\n",
       "       [73330.  ],\n",
       "       [52057.  ],\n",
       "       [47434.  ],\n",
       "       [52788.  ],\n",
       "       [45395.  ],\n",
       "       [62385.  ],\n",
       "       [68407.  ],\n",
       "       [61349.  ],\n",
       "       [96837.75],\n",
       "       [54132.  ],\n",
       "       [55315.  ],\n",
       "       [62810.  ],\n",
       "       [63291.  ],\n",
       "       [62659.  ],\n",
       "       [55688.  ],\n",
       "       [83667.  ],\n",
       "       [55800.  ],\n",
       "       [58207.  ],\n",
       "       [96837.75],\n",
       "       [72460.  ],\n",
       "       [72106.  ],\n",
       "       [52599.  ],\n",
       "       [63430.  ],\n",
       "       [74417.  ],\n",
       "       [57575.  ],\n",
       "       [87921.  ],\n",
       "       [50470.  ],\n",
       "       [46664.  ],\n",
       "       [48495.  ],\n",
       "       [52984.  ],\n",
       "       [63695.  ],\n",
       "       [62061.  ],\n",
       "       [66738.  ],\n",
       "       [52674.  ],\n",
       "       [71966.  ],\n",
       "       [63051.  ],\n",
       "       [47414.  ],\n",
       "       [53060.  ],\n",
       "       [68829.  ],\n",
       "       [63515.  ],\n",
       "       [96837.75],\n",
       "       [93093.  ],\n",
       "       [53564.  ],\n",
       "       [60270.  ],\n",
       "       [45998.  ],\n",
       "       [57954.  ],\n",
       "       [74669.  ],\n",
       "       [74226.  ],\n",
       "       [93554.  ],\n",
       "       [64724.  ],\n",
       "       [47001.  ],\n",
       "       [61844.  ],\n",
       "       [46799.  ],\n",
       "       [59472.  ],\n",
       "       [46430.  ],\n",
       "       [83363.  ],\n",
       "       [95920.  ],\n",
       "       [61729.  ],\n",
       "       [61809.  ],\n",
       "       [45115.  ],\n",
       "       [46738.  ],\n",
       "       [64971.  ],\n",
       "       [55578.  ],\n",
       "       [50428.  ],\n",
       "       [61422.  ],\n",
       "       [63353.  ],\n",
       "       [89883.  ],\n",
       "       [96837.75],\n",
       "       [96837.75],\n",
       "       [60627.  ],\n",
       "       [53180.  ],\n",
       "       [96837.75],\n",
       "       [96837.75],\n",
       "       [86214.  ],\n",
       "       [47750.  ],\n",
       "       [46428.  ],\n",
       "       [57975.  ],\n",
       "       [88527.  ],\n",
       "       [56147.  ],\n",
       "       [50923.  ],\n",
       "       [50750.  ],\n",
       "       [52087.  ],\n",
       "       [87826.  ],\n",
       "       [51920.  ],\n",
       "       [63878.  ],\n",
       "       [60656.  ],\n",
       "       [72992.  ],\n",
       "       [55000.  ],\n",
       "       [58939.  ],\n",
       "       [66593.  ],\n",
       "       [87565.  ],\n",
       "       [64021.  ],\n",
       "       [65714.  ],\n",
       "       [62425.  ],\n",
       "       [47961.  ],\n",
       "       [58273.  ],\n",
       "       [63003.  ],\n",
       "       [61355.  ],\n",
       "       [60120.  ],\n",
       "       [63682.  ],\n",
       "       [63025.  ],\n",
       "       [59238.  ],\n",
       "       [92989.  ],\n",
       "       [90100.  ],\n",
       "       [60754.  ],\n",
       "       [72202.  ],\n",
       "       [58370.  ],\n",
       "       [48413.  ],\n",
       "       [67176.  ],\n",
       "       [56339.  ],\n",
       "       [64397.  ],\n",
       "       [63025.  ],\n",
       "       [75281.  ],\n",
       "       [96837.75],\n",
       "       [74813.  ],\n",
       "       [76029.  ],\n",
       "       [57859.  ],\n",
       "       [58523.  ],\n",
       "       [88976.  ],\n",
       "       [55875.  ],\n",
       "       [96837.75],\n",
       "       [49773.  ],\n",
       "       [62068.  ],\n",
       "       [66541.  ],\n",
       "       [80512.  ],\n",
       "       [50274.  ],\n",
       "       [84903.  ],\n",
       "       [96837.75],\n",
       "       [58371.  ],\n",
       "       [55140.  ],\n",
       "       [58062.  ],\n",
       "       [59728.  ],\n",
       "       [70507.  ],\n",
       "       [60446.  ],\n",
       "       [65893.  ],\n",
       "       [48513.  ],\n",
       "       [96837.75],\n",
       "       [89292.  ],\n",
       "       [45046.  ]])"
      ]
     },
     "execution_count": 65,
     "metadata": {},
     "output_type": "execute_result"
    }
   ],
   "source": [
    "Y.values.reshape(-1,1)"
   ]
  },
  {
   "cell_type": "code",
   "execution_count": 66,
   "id": "a502aafd",
   "metadata": {},
   "outputs": [],
   "source": [
    "X_train, X_test, Y_train, Y_test = train_test_split(X, Y, test_size=1/3, random_state=42)"
   ]
  },
  {
   "cell_type": "code",
   "execution_count": 67,
   "id": "0129f484",
   "metadata": {},
   "outputs": [
    {
     "data": {
      "text/plain": [
       "(207,)"
      ]
     },
     "execution_count": 67,
     "metadata": {},
     "output_type": "execute_result"
    }
   ],
   "source": [
    "X_train.shape"
   ]
  },
  {
   "cell_type": "code",
   "execution_count": 68,
   "id": "6e50e3dd",
   "metadata": {},
   "outputs": [
    {
     "data": {
      "text/plain": [
       "(104,)"
      ]
     },
     "execution_count": 68,
     "metadata": {},
     "output_type": "execute_result"
    }
   ],
   "source": [
    "X_test.shape"
   ]
  },
  {
   "cell_type": "code",
   "execution_count": 69,
   "id": "e26001c9",
   "metadata": {},
   "outputs": [
    {
     "data": {
      "text/plain": [
       "290    10144\n",
       "9      10250\n",
       "57     10193\n",
       "60     10099\n",
       "25     10199\n",
       "       ...  \n",
       "238    10162\n",
       "97     10080\n",
       "68     10100\n",
       "240    10086\n",
       "37     10085\n",
       "Name: EmpID, Length: 104, dtype: int64"
      ]
     },
     "execution_count": 69,
     "metadata": {},
     "output_type": "execute_result"
    }
   ],
   "source": [
    "X_test"
   ]
  },
  {
   "cell_type": "code",
   "execution_count": 70,
   "id": "9ba6513e",
   "metadata": {},
   "outputs": [
    {
     "data": {
      "text/plain": [
       "0    62506.00\n",
       "1    96837.75\n",
       "2    64955.00\n",
       "3    64991.00\n",
       "4    50825.00\n",
       "Name: Salary, dtype: float64"
      ]
     },
     "execution_count": 70,
     "metadata": {},
     "output_type": "execute_result"
    }
   ],
   "source": [
    "Y.head()"
   ]
  },
  {
   "cell_type": "code",
   "execution_count": 71,
   "id": "0df19e02",
   "metadata": {},
   "outputs": [
    {
     "data": {
      "text/plain": [
       "16     10023\n",
       "55     10019\n",
       "154    10176\n",
       "280    10268\n",
       "67     10306\n",
       "       ...  \n",
       "188    10298\n",
       "71     10276\n",
       "106    10018\n",
       "270    10241\n",
       "102    10159\n",
       "Name: EmpID, Length: 207, dtype: int64"
      ]
     },
     "execution_count": 71,
     "metadata": {},
     "output_type": "execute_result"
    }
   ],
   "source": [
    "X_train"
   ]
  },
  {
   "cell_type": "code",
   "execution_count": 72,
   "id": "e7ce5bd2",
   "metadata": {},
   "outputs": [
    {
     "data": {
      "text/plain": [
       "289    58523.0\n",
       "72     59231.0\n",
       "15     57834.0\n",
       "10     54670.0\n",
       "275    90100.0\n",
       "        ...   \n",
       "188    55800.0\n",
       "71     51259.0\n",
       "106    57815.0\n",
       "270    60120.0\n",
       "102    51337.0\n",
       "Name: Salary, Length: 217, dtype: float64"
      ]
     },
     "execution_count": 72,
     "metadata": {},
     "output_type": "execute_result"
    }
   ],
   "source": [
    "y_train"
   ]
  },
  {
   "cell_type": "code",
   "execution_count": 73,
   "id": "5be42477",
   "metadata": {},
   "outputs": [],
   "source": [
    "dataset.to_csv('D:/downloads/int.csv')"
   ]
  },
  {
   "cell_type": "code",
   "execution_count": 74,
   "id": "9e2ade85",
   "metadata": {},
   "outputs": [
    {
     "data": {
      "text/html": [
       "<div>\n",
       "<style scoped>\n",
       "    .dataframe tbody tr th:only-of-type {\n",
       "        vertical-align: middle;\n",
       "    }\n",
       "\n",
       "    .dataframe tbody tr th {\n",
       "        vertical-align: top;\n",
       "    }\n",
       "\n",
       "    .dataframe thead th {\n",
       "        text-align: right;\n",
       "    }\n",
       "</style>\n",
       "<table border=\"1\" class=\"dataframe\">\n",
       "  <thead>\n",
       "    <tr style=\"text-align: right;\">\n",
       "      <th></th>\n",
       "      <th>Unnamed: 0</th>\n",
       "      <th>EmpID</th>\n",
       "      <th>Salary</th>\n",
       "    </tr>\n",
       "  </thead>\n",
       "  <tbody>\n",
       "    <tr>\n",
       "      <th>0</th>\n",
       "      <td>0</td>\n",
       "      <td>10026</td>\n",
       "      <td>62506.00</td>\n",
       "    </tr>\n",
       "    <tr>\n",
       "      <th>1</th>\n",
       "      <td>1</td>\n",
       "      <td>10084</td>\n",
       "      <td>96837.75</td>\n",
       "    </tr>\n",
       "    <tr>\n",
       "      <th>2</th>\n",
       "      <td>2</td>\n",
       "      <td>10196</td>\n",
       "      <td>64955.00</td>\n",
       "    </tr>\n",
       "    <tr>\n",
       "      <th>3</th>\n",
       "      <td>3</td>\n",
       "      <td>10088</td>\n",
       "      <td>64991.00</td>\n",
       "    </tr>\n",
       "    <tr>\n",
       "      <th>4</th>\n",
       "      <td>4</td>\n",
       "      <td>10069</td>\n",
       "      <td>50825.00</td>\n",
       "    </tr>\n",
       "  </tbody>\n",
       "</table>\n",
       "</div>"
      ],
      "text/plain": [
       "   Unnamed: 0  EmpID    Salary\n",
       "0           0  10026  62506.00\n",
       "1           1  10084  96837.75\n",
       "2           2  10196  64955.00\n",
       "3           3  10088  64991.00\n",
       "4           4  10069  50825.00"
      ]
     },
     "execution_count": 74,
     "metadata": {},
     "output_type": "execute_result"
    }
   ],
   "source": [
    "dataframe=pd.read_csv(r'D:/downloads/int.csv')\n",
    "dataframe.head()"
   ]
  },
  {
   "cell_type": "code",
   "execution_count": 75,
   "id": "6d890f84",
   "metadata": {},
   "outputs": [],
   "source": [
    "dataframe=dataframe.drop(['Unnamed: 0'],axis=1)"
   ]
  },
  {
   "cell_type": "code",
   "execution_count": 76,
   "id": "49a77dad",
   "metadata": {},
   "outputs": [],
   "source": [
    "X = dataframe.iloc[:, :-1].values\n",
    "y = dataframe.iloc[:,1].values"
   ]
  },
  {
   "cell_type": "code",
   "execution_count": 77,
   "id": "f08e24f1",
   "metadata": {},
   "outputs": [
    {
     "data": {
      "text/plain": [
       "array([[10026],\n",
       "       [10084],\n",
       "       [10196],\n",
       "       [10088],\n",
       "       [10069],\n",
       "       [10002],\n",
       "       [10194],\n",
       "       [10062],\n",
       "       [10114],\n",
       "       [10250],\n",
       "       [10252],\n",
       "       [10242],\n",
       "       [10012],\n",
       "       [10265],\n",
       "       [10066],\n",
       "       [10061],\n",
       "       [10023],\n",
       "       [10055],\n",
       "       [10245],\n",
       "       [10277],\n",
       "       [10046],\n",
       "       [10226],\n",
       "       [10003],\n",
       "       [10294],\n",
       "       [10267],\n",
       "       [10199],\n",
       "       [10081],\n",
       "       [10175],\n",
       "       [10177],\n",
       "       [10238],\n",
       "       [10184],\n",
       "       [10203],\n",
       "       [10188],\n",
       "       [10107],\n",
       "       [10181],\n",
       "       [10150],\n",
       "       [10001],\n",
       "       [10085],\n",
       "       [10115],\n",
       "       [10082],\n",
       "       [10040],\n",
       "       [10067],\n",
       "       [10108],\n",
       "       [10210],\n",
       "       [10154],\n",
       "       [10200],\n",
       "       [10240],\n",
       "       [10168],\n",
       "       [10220],\n",
       "       [10275],\n",
       "       [10269],\n",
       "       [10029],\n",
       "       [10261],\n",
       "       [10292],\n",
       "       [10282],\n",
       "       [10019],\n",
       "       [10094],\n",
       "       [10193],\n",
       "       [10132],\n",
       "       [10083],\n",
       "       [10099],\n",
       "       [10212],\n",
       "       [10056],\n",
       "       [10143],\n",
       "       [10311],\n",
       "       [10070],\n",
       "       [10155],\n",
       "       [10306],\n",
       "       [10100],\n",
       "       [10310],\n",
       "       [10197],\n",
       "       [10276],\n",
       "       [10304],\n",
       "       [10284],\n",
       "       [10207],\n",
       "       [10133],\n",
       "       [10028],\n",
       "       [10006],\n",
       "       [10105],\n",
       "       [10211],\n",
       "       [10064],\n",
       "       [10247],\n",
       "       [10235],\n",
       "       [10299],\n",
       "       [10280],\n",
       "       [10296],\n",
       "       [10290],\n",
       "       [10263],\n",
       "       [10136],\n",
       "       [10189],\n",
       "       [10308],\n",
       "       [10309],\n",
       "       [10049],\n",
       "       [10093],\n",
       "       [10163],\n",
       "       [10305],\n",
       "       [10015],\n",
       "       [10080],\n",
       "       [10258],\n",
       "       [10273],\n",
       "       [10111],\n",
       "       [10257],\n",
       "       [10159],\n",
       "       [10122],\n",
       "       [10142],\n",
       "       [10283],\n",
       "       [10018],\n",
       "       [10255],\n",
       "       [10246],\n",
       "       [10228],\n",
       "       [10243],\n",
       "       [10031],\n",
       "       [10300],\n",
       "       [10101],\n",
       "       [10237],\n",
       "       [10051],\n",
       "       [10218],\n",
       "       [10256],\n",
       "       [10098],\n",
       "       [10059],\n",
       "       [10234],\n",
       "       [10109],\n",
       "       [10125],\n",
       "       [10074],\n",
       "       [10097],\n",
       "       [10007],\n",
       "       [10129],\n",
       "       [10075],\n",
       "       [10167],\n",
       "       [10195],\n",
       "       [10112],\n",
       "       [10272],\n",
       "       [10182],\n",
       "       [10248],\n",
       "       [10201],\n",
       "       [10214],\n",
       "       [10160],\n",
       "       [10289],\n",
       "       [10139],\n",
       "       [10227],\n",
       "       [10236],\n",
       "       [10009],\n",
       "       [10060],\n",
       "       [10034],\n",
       "       [10156],\n",
       "       [10036],\n",
       "       [10138],\n",
       "       [10244],\n",
       "       [10192],\n",
       "       [10231],\n",
       "       [10089],\n",
       "       [10166],\n",
       "       [10170],\n",
       "       [10208],\n",
       "       [10176],\n",
       "       [10165],\n",
       "       [10113],\n",
       "       [10092],\n",
       "       [10106],\n",
       "       [10052],\n",
       "       [10038],\n",
       "       [10249],\n",
       "       [10232],\n",
       "       [10087],\n",
       "       [10134],\n",
       "       [10251],\n",
       "       [10103],\n",
       "       [10017],\n",
       "       [10186],\n",
       "       [10137],\n",
       "       [10008],\n",
       "       [10096],\n",
       "       [10035],\n",
       "       [10057],\n",
       "       [10004],\n",
       "       [10191],\n",
       "       [10219],\n",
       "       [10077],\n",
       "       [10073],\n",
       "       [10279],\n",
       "       [10110],\n",
       "       [10053],\n",
       "       [10076],\n",
       "       [10145],\n",
       "       [10202],\n",
       "       [10128],\n",
       "       [10068],\n",
       "       [10116],\n",
       "       [10298],\n",
       "       [10213],\n",
       "       [10288],\n",
       "       [10025],\n",
       "       [10223],\n",
       "       [10151],\n",
       "       [10254],\n",
       "       [10120],\n",
       "       [10216],\n",
       "       [10079],\n",
       "       [10215],\n",
       "       [10185],\n",
       "       [10063],\n",
       "       [10037],\n",
       "       [10042],\n",
       "       [10206],\n",
       "       [10104],\n",
       "       [10303],\n",
       "       [10078],\n",
       "       [10121],\n",
       "       [10021],\n",
       "       [10281],\n",
       "       [10041],\n",
       "       [10148],\n",
       "       [10005],\n",
       "       [10259],\n",
       "       [10286],\n",
       "       [10297],\n",
       "       [10171],\n",
       "       [10032],\n",
       "       [10130],\n",
       "       [10217],\n",
       "       [10016],\n",
       "       [10050],\n",
       "       [10164],\n",
       "       [10124],\n",
       "       [10187],\n",
       "       [10225],\n",
       "       [10262],\n",
       "       [10131],\n",
       "       [10239],\n",
       "       [10152],\n",
       "       [10140],\n",
       "       [10058],\n",
       "       [10011],\n",
       "       [10230],\n",
       "       [10224],\n",
       "       [10047],\n",
       "       [10285],\n",
       "       [10020],\n",
       "       [10162],\n",
       "       [10149],\n",
       "       [10086],\n",
       "       [10054],\n",
       "       [10065],\n",
       "       [10198],\n",
       "       [10222],\n",
       "       [10126],\n",
       "       [10295],\n",
       "       [10260],\n",
       "       [10233],\n",
       "       [10229],\n",
       "       [10169],\n",
       "       [10071],\n",
       "       [10179],\n",
       "       [10091],\n",
       "       [10178],\n",
       "       [10039],\n",
       "       [10095],\n",
       "       [10027],\n",
       "       [10291],\n",
       "       [10153],\n",
       "       [10157],\n",
       "       [10119],\n",
       "       [10180],\n",
       "       [10302],\n",
       "       [10090],\n",
       "       [10030],\n",
       "       [10278],\n",
       "       [10307],\n",
       "       [10147],\n",
       "       [10266],\n",
       "       [10241],\n",
       "       [10158],\n",
       "       [10117],\n",
       "       [10209],\n",
       "       [10024],\n",
       "       [10173],\n",
       "       [10221],\n",
       "       [10146],\n",
       "       [10161],\n",
       "       [10141],\n",
       "       [10268],\n",
       "       [10123],\n",
       "       [10013],\n",
       "       [10287],\n",
       "       [10044],\n",
       "       [10102],\n",
       "       [10270],\n",
       "       [10045],\n",
       "       [10205],\n",
       "       [10014],\n",
       "       [10144],\n",
       "       [10253],\n",
       "       [10118],\n",
       "       [10022],\n",
       "       [10183],\n",
       "       [10190],\n",
       "       [10274],\n",
       "       [10293],\n",
       "       [10172],\n",
       "       [10127],\n",
       "       [10072],\n",
       "       [10048],\n",
       "       [10204],\n",
       "       [10264],\n",
       "       [10033],\n",
       "       [10174],\n",
       "       [10135],\n",
       "       [10301],\n",
       "       [10010],\n",
       "       [10043],\n",
       "       [10271]], dtype=int64)"
      ]
     },
     "execution_count": 77,
     "metadata": {},
     "output_type": "execute_result"
    }
   ],
   "source": [
    "X"
   ]
  },
  {
   "cell_type": "code",
   "execution_count": 78,
   "id": "07448ac3",
   "metadata": {},
   "outputs": [
    {
     "data": {
      "text/plain": [
       "array([62506.  , 96837.75, 64955.  , 64991.  , 50825.  , 57568.  ,\n",
       "       95660.  , 59365.  , 47837.  , 50178.  , 54670.  , 47211.  ,\n",
       "       92328.  , 58709.  , 52505.  , 57834.  , 70131.  , 59026.  ,\n",
       "       96837.75, 53250.  , 51044.  , 64919.  , 62910.  , 66441.  ,\n",
       "       57815.  , 96837.75, 96837.75, 74312.  , 53492.  , 63000.  ,\n",
       "       65288.  , 64375.  , 74326.  , 63763.  , 62162.  , 77692.  ,\n",
       "       72640.  , 93396.  , 52846.  , 96837.75, 71860.  , 61656.  ,\n",
       "       96837.75, 54237.  , 60380.  , 66808.  , 64786.  , 64816.  ,\n",
       "       68678.  , 64066.  , 59369.  , 50373.  , 63108.  , 59144.  ,\n",
       "       68051.  , 96837.75, 63381.  , 83552.  , 56149.  , 92329.  ,\n",
       "       65729.  , 85028.  , 57583.  , 56294.  , 56991.  , 55722.  ,\n",
       "       96837.75, 61568.  , 58275.  , 53189.  , 96820.  , 51259.  ,\n",
       "       59231.  , 61584.  , 46335.  , 70621.  , 96837.75, 74241.  ,\n",
       "       75188.  , 62514.  , 60070.  , 48888.  , 54285.  , 56847.  ,\n",
       "       60340.  , 59124.  , 96837.75, 71776.  , 65902.  , 57748.  ,\n",
       "       64057.  , 53366.  , 58530.  , 72609.  , 55965.  , 70187.  ,\n",
       "       96837.75, 96837.75, 67251.  , 65707.  , 52249.  , 53171.  ,\n",
       "       51337.  , 51505.  , 59370.  , 54933.  , 57815.  , 61555.  ,\n",
       "       96837.75, 74679.  , 53018.  , 59892.  , 68898.  , 61242.  ,\n",
       "       66825.  , 48285.  , 66149.  , 49256.  , 62957.  , 63813.  ,\n",
       "       96837.75, 71707.  , 54828.  , 64246.  , 52177.  , 62065.  ,\n",
       "       46998.  , 68099.  , 70545.  , 63478.  , 96837.75, 96837.75,\n",
       "       49920.  , 55425.  , 69340.  , 64995.  , 68182.  , 83082.  ,\n",
       "       51908.  , 61242.  , 45069.  , 60724.  , 60436.  , 46837.  ,\n",
       "       96837.75, 63322.  , 61154.  , 68999.  , 50482.  , 65310.  ,\n",
       "       96837.75, 54005.  , 45433.  , 46654.  , 63973.  , 71339.  ,\n",
       "       93206.  , 82758.  , 66074.  , 46120.  , 64520.  , 61962.  ,\n",
       "       81584.  , 63676.  , 93046.  , 64738.  , 70468.  , 77915.  ,\n",
       "       52624.  , 63450.  , 51777.  , 67237.  , 73330.  , 52057.  ,\n",
       "       47434.  , 52788.  , 45395.  , 62385.  , 68407.  , 61349.  ,\n",
       "       96837.75, 54132.  , 55315.  , 62810.  , 63291.  , 62659.  ,\n",
       "       55688.  , 83667.  , 55800.  , 58207.  , 96837.75, 72460.  ,\n",
       "       72106.  , 52599.  , 63430.  , 74417.  , 57575.  , 87921.  ,\n",
       "       50470.  , 46664.  , 48495.  , 52984.  , 63695.  , 62061.  ,\n",
       "       66738.  , 52674.  , 71966.  , 63051.  , 47414.  , 53060.  ,\n",
       "       68829.  , 63515.  , 96837.75, 93093.  , 53564.  , 60270.  ,\n",
       "       45998.  , 57954.  , 74669.  , 74226.  , 93554.  , 64724.  ,\n",
       "       47001.  , 61844.  , 46799.  , 59472.  , 46430.  , 83363.  ,\n",
       "       95920.  , 61729.  , 61809.  , 45115.  , 46738.  , 64971.  ,\n",
       "       55578.  , 50428.  , 61422.  , 63353.  , 89883.  , 96837.75,\n",
       "       96837.75, 60627.  , 53180.  , 96837.75, 96837.75, 86214.  ,\n",
       "       47750.  , 46428.  , 57975.  , 88527.  , 56147.  , 50923.  ,\n",
       "       50750.  , 52087.  , 87826.  , 51920.  , 63878.  , 60656.  ,\n",
       "       72992.  , 55000.  , 58939.  , 66593.  , 87565.  , 64021.  ,\n",
       "       65714.  , 62425.  , 47961.  , 58273.  , 63003.  , 61355.  ,\n",
       "       60120.  , 63682.  , 63025.  , 59238.  , 92989.  , 90100.  ,\n",
       "       60754.  , 72202.  , 58370.  , 48413.  , 67176.  , 56339.  ,\n",
       "       64397.  , 63025.  , 75281.  , 96837.75, 74813.  , 76029.  ,\n",
       "       57859.  , 58523.  , 88976.  , 55875.  , 96837.75, 49773.  ,\n",
       "       62068.  , 66541.  , 80512.  , 50274.  , 84903.  , 96837.75,\n",
       "       58371.  , 55140.  , 58062.  , 59728.  , 70507.  , 60446.  ,\n",
       "       65893.  , 48513.  , 96837.75, 89292.  , 45046.  ])"
      ]
     },
     "execution_count": 78,
     "metadata": {},
     "output_type": "execute_result"
    }
   ],
   "source": [
    "y"
   ]
  },
  {
   "cell_type": "code",
   "execution_count": 79,
   "id": "dff25a11",
   "metadata": {},
   "outputs": [],
   "source": [
    "from sklearn.model_selection import train_test_split\n",
    "X_train, X_test, y_train, y_test = train_test_split(X, y, test_size=1/3, random_state=0)"
   ]
  },
  {
   "cell_type": "code",
   "execution_count": 80,
   "id": "07da1b8f",
   "metadata": {},
   "outputs": [
    {
     "data": {
      "text/plain": [
       "RandomForestRegressor()"
      ]
     },
     "execution_count": 80,
     "metadata": {},
     "output_type": "execute_result"
    }
   ],
   "source": [
    "from sklearn.ensemble import RandomForestRegressor\n",
    "rfr=RandomForestRegressor()\n",
    "rfr.fit(X_train,y_train)"
   ]
  },
  {
   "cell_type": "code",
   "execution_count": 81,
   "id": "69edd6be",
   "metadata": {},
   "outputs": [],
   "source": [
    "y_pred=rfr.predict(X_test)"
   ]
  },
  {
   "cell_type": "code",
   "execution_count": 82,
   "id": "e27f22f8",
   "metadata": {},
   "outputs": [
    {
     "data": {
      "text/plain": [
       "array([56382.17  , 60607.04  , 61477.53  , 89046.0075, 66356.8   ,\n",
       "       63349.13  , 57331.55  , 62933.69  , 54000.4   , 56262.43  ,\n",
       "       58379.215 , 84169.2725, 62675.7   , 75118.0875, 59693.52  ,\n",
       "       59163.07  , 83562.125 , 53984.33  , 52281.72  , 68855.68  ,\n",
       "       60229.3   , 57662.24  , 59875.91  , 51348.7975, 66005.84  ,\n",
       "       90736.36  , 58914.4575, 54270.59  , 82168.825 , 67231.4775,\n",
       "       50680.79  , 60130.13  , 82825.2425, 57825.96  , 77897.    ,\n",
       "       60120.6   , 58190.9   , 66440.75  , 59708.72  , 52081.92  ,\n",
       "       70952.53  , 72826.9225, 52010.62  , 58250.56  , 83301.69  ,\n",
       "       79110.645 , 58768.44  , 85183.1875, 68811.445 , 65732.61  ,\n",
       "       57206.32  , 93727.0525, 84630.8875, 64777.55  , 53673.22  ,\n",
       "       63531.2275, 65901.59  , 64676.4075, 77488.59  , 64763.99  ,\n",
       "       76194.97  , 58519.15  , 85978.255 , 62481.0075, 51363.35  ,\n",
       "       60300.6   , 94488.185 , 57497.39  , 58071.09  , 56926.045 ,\n",
       "       58622.93  , 60113.2   , 52730.31  , 68387.8   , 82880.84  ,\n",
       "       86624.1275, 63036.17  , 59137.3   , 56070.02  , 57916.8   ,\n",
       "       61606.5475, 65546.92  , 71716.23  , 66634.7   , 68957.2   ,\n",
       "       80439.23  , 55672.9   , 74887.06  , 86194.075 , 73420.515 ,\n",
       "       65497.69  , 55627.2325, 59526.41  , 86994.425 , 75208.23  ,\n",
       "       51611.93  , 74823.31  , 84087.9625, 64138.17  , 68699.96  ,\n",
       "       62079.72  , 58269.1   , 52736.43  , 59137.69  ])"
      ]
     },
     "execution_count": 82,
     "metadata": {},
     "output_type": "execute_result"
    }
   ],
   "source": [
    "y_pred"
   ]
  },
  {
   "cell_type": "code",
   "execution_count": 83,
   "id": "e0e7b47c",
   "metadata": {},
   "outputs": [
    {
     "name": "stdout",
     "output_type": "stream",
     "text": [
      "The predicted salary of a person with ID number 10084 is  [91305.4525]\n"
     ]
    }
   ],
   "source": [
    "new_salary_pred = rfr.predict([[10084]])\n",
    "print('The predicted salary of a person with ID number 10084 is ',new_salary_pred)"
   ]
  },
  {
   "cell_type": "code",
   "execution_count": null,
   "id": "b9f1d3d1",
   "metadata": {},
   "outputs": [],
   "source": []
  }
 ],
 "metadata": {
  "kernelspec": {
   "display_name": "Python 3",
   "language": "python",
   "name": "python3"
  },
  "language_info": {
   "codemirror_mode": {
    "name": "ipython",
    "version": 3
   },
   "file_extension": ".py",
   "mimetype": "text/x-python",
   "name": "python",
   "nbconvert_exporter": "python",
   "pygments_lexer": "ipython3",
   "version": "3.8.8"
  }
 },
 "nbformat": 4,
 "nbformat_minor": 5
}
